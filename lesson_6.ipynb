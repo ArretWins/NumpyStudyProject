{
 "cells": [
  {
   "cell_type": "code",
   "id": "initial_id",
   "metadata": {
    "collapsed": true,
    "ExecuteTime": {
     "end_time": "2024-09-29T16:32:21.586934Z",
     "start_time": "2024-09-29T16:32:21.333646Z"
    }
   },
   "source": "import numpy as np",
   "outputs": [],
   "execution_count": 1
  },
  {
   "metadata": {},
   "cell_type": "markdown",
   "source": "**Основные математические методы**",
   "id": "1136b666414d4a3c"
  },
  {
   "metadata": {},
   "cell_type": "markdown",
   "source": [
    "Создай два массива случайных целых чисел от 10 до 50:\n",
    "первый размером (3, 5), \n",
    "второй размером (5, 3).\n",
    "\n",
    "Выполни следующие операции: \n",
    "\n",
    "Найди сумму всех элементов обоих массивов. Найди разность сумм элементов первого и второго массивов. Найди произведение суммы всех элементов первого массива на сумму всех элементов второго массива."
   ],
   "id": "a7707a7a9fdbb2d6"
  },
  {
   "metadata": {
    "ExecuteTime": {
     "end_time": "2024-09-29T16:43:13.337303Z",
     "start_time": "2024-09-29T16:43:13.331772Z"
    }
   },
   "cell_type": "code",
   "source": [
    "np_array_1 = np.random.randint(10, 51, (3,5))\n",
    "np_array_2 = np.random.randint(10, 51, (5,3))\n",
    "np_array_2 = np_array_2.transpose()\n",
    "arr_sum = (np_array_1 + np_array_2).sum()\n",
    "arr_raz = np_array_1.sum()-np_array_2.sum()\n",
    "arr_prod = np_array_1.sum()*np_array_2.sum()"
   ],
   "id": "78d5ebad968efd83",
   "outputs": [],
   "execution_count": 8
  },
  {
   "metadata": {},
   "cell_type": "markdown",
   "source": [
    "Создай два массива:\n",
    "массив A с целыми числами от 1 до 12 и размерностью (3, 4),\n",
    "массив B с целыми числами от 2 до 8 и размерностью (3, 4).\n",
    "\n",
    "Выполни следующие действия:\n",
    "\n",
    "Найди произведение каждого элемента массива A на соответствующий элемент массива B.\n",
    "Полученный массив назови C. Используй метод sum для вычисления суммы элементов по каждой строке массива C.\n"
   ],
   "id": "d70edb12590da9af"
  },
  {
   "metadata": {
    "ExecuteTime": {
     "end_time": "2024-09-29T16:51:38.039723Z",
     "start_time": "2024-09-29T16:51:38.033415Z"
    }
   },
   "cell_type": "code",
   "source": [
    "A = np.arange(1, 13).reshape(3,4)\n",
    "B = np.random.randint(2, 9, (3,4))\n",
    "C = A * B\n",
    "sum_c = np.sum(C, axis=1)"
   ],
   "id": "271ebc3129a22fd6",
   "outputs": [],
   "execution_count": 20
  },
  {
   "metadata": {},
   "cell_type": "markdown",
   "source": [
    "Создай три массива случайных чисел:\n",
    "массив X с числами от 1 до 20 размером (4, 5),\n",
    "массив Y с числами от 5 до 25 размером (5, 4),\n",
    "массив Z с числами от 10 до 30 размером (4, 5).\n",
    "\n",
    "Выполни следующие операции:\n",
    "\n",
    "Найди сумму всех элементов массива X и Z.\n",
    "Найди произведение каждого элемента массива X на соответствующий элемент массива Z.\n",
    "Найди разность сумм элементов массива X и произведения суммы элементов массива Y.\n"
   ],
   "id": "637e98e08e715f87"
  },
  {
   "metadata": {
    "ExecuteTime": {
     "end_time": "2024-09-29T17:01:37.318542Z",
     "start_time": "2024-09-29T17:01:37.310911Z"
    }
   },
   "cell_type": "code",
   "source": [
    "X = np.random.randint(1, 21, (4, 5))\n",
    "Y = np.random.randint(5, 26, (5, 4))\n",
    "Y = Y.transpose()\n",
    "Z = np.random.randint(10, 31, (4, 5))\n",
    "sum_x_z = (X + Z).sum()\n",
    "prod_x_z = X * Z\n",
    "raz_x_y = X.sum() - Y.sum().prod()"
   ],
   "id": "81e075535d6ecd65",
   "outputs": [],
   "execution_count": 29
  },
  {
   "metadata": {},
   "cell_type": "markdown",
   "source": "**Математические функции**",
   "id": "bbdc98194c758a67"
  },
  {
   "metadata": {},
   "cell_type": "markdown",
   "source": "Тригонометрические функции: Создай массив с числами от 0 до 90 (в градусах) с шагом 15, преобразуй его в радианы и найди синус, косинус и тангенс для каждого элемента массива.",
   "id": "4cb0eb793e38fb87"
  },
  {
   "metadata": {
    "ExecuteTime": {
     "end_time": "2024-09-29T17:12:45.582329Z",
     "start_time": "2024-09-29T17:12:45.576839Z"
    }
   },
   "cell_type": "code",
   "source": [
    "np_array = np.arange(0, 90, 15)\n",
    "rad_arr = np.radians(np_array)\n",
    "sin_arr = np.sin(rad_arr)\n",
    "cos_arr = np.cos(rad_arr)\n",
    "tan_arr = np.tan(rad_arr)"
   ],
   "id": "32756cf4af5ef073",
   "outputs": [],
   "execution_count": 44
  },
  {
   "metadata": {},
   "cell_type": "markdown",
   "source": "Логарифмы и экспоненты: Создай массив случайных чисел от 1 до 100, вычисли натуральный логарифм для всех элементов массива, а затем найди экспоненту от этих значений (результат должен вернуть исходный массив).",
   "id": "56073d8174e82453"
  },
  {
   "metadata": {
    "ExecuteTime": {
     "end_time": "2024-09-29T17:06:21.128410Z",
     "start_time": "2024-09-29T17:06:21.123462Z"
    }
   },
   "cell_type": "code",
   "source": [
    "np_array_1 = np.random.randint(1, 100, 100)\n",
    "log_arr = np.log(np_array_1)\n",
    "exp_arr = np.exp(log_arr)"
   ],
   "id": "e7a51e1b89213a59",
   "outputs": [],
   "execution_count": 36
  },
  {
   "metadata": {},
   "cell_type": "markdown",
   "source": "Корни и возведение в степень: Создай два массива размером 3x3 со случайными числами от 1 до 9. Вычисли квадратный корень для элементов первого массива и возведи элементы второго массива в квадрат. Найди их сумму поэлементно.",
   "id": "22e096dde41423"
  },
  {
   "metadata": {
    "ExecuteTime": {
     "end_time": "2024-09-29T17:10:12.707801Z",
     "start_time": "2024-09-29T17:10:12.701456Z"
    }
   },
   "cell_type": "code",
   "source": [
    "np_array_1 = np.random.randint(1, 10, (3,3))\n",
    "np_array_2 = np.random.randint(1, 10, (3,3))\n",
    "sqrt_arr = np.sqrt(np_array_1)\n",
    "sq_arr = np.square(np_array_2)\n",
    "sum_arr = sqrt_arr + sq_arr"
   ],
   "id": "f66ed552fea178a2",
   "outputs": [],
   "execution_count": 41
  },
  {
   "metadata": {},
   "cell_type": "markdown",
   "source": "**Применение математических функций по осям**",
   "id": "3b5dabc89c7b029"
  },
  {
   "metadata": {},
   "cell_type": "markdown",
   "source": "Создай массив случайных целых чисел размером 5x4. Найди сумму элементов по строкам (ось 1) и по столбцам (ось 0).",
   "id": "6a059387eadf9a81"
  },
  {
   "metadata": {
    "ExecuteTime": {
     "end_time": "2024-09-29T17:43:26.386990Z",
     "start_time": "2024-09-29T17:43:26.381455Z"
    }
   },
   "cell_type": "code",
   "source": [
    "np_array = np.random.randint(1, 21, (5,4))\n",
    "sum_1 = np.sum(np_array, axis=1)\n",
    "sum_2 = np.sum(np_array, axis=0)"
   ],
   "id": "5c60175aa4c56702",
   "outputs": [],
   "execution_count": 48
  },
  {
   "metadata": {},
   "cell_type": "markdown",
   "source": "Создай двумерный массив размером 6x3 с числами от 1 до 18. Найди среднее значение по каждому столбцу и максимальное значение по каждой строке.",
   "id": "ef374c6eacda7ba2"
  },
  {
   "metadata": {
    "ExecuteTime": {
     "end_time": "2024-09-29T17:47:51.747650Z",
     "start_time": "2024-09-29T17:47:51.741337Z"
    }
   },
   "cell_type": "code",
   "source": [
    "np_array = np.random.randint(1, 19, (6,3))\n",
    "mean_1 = np.mean(np_array, axis=0)\n",
    "mean_2 = np.mean(np_array, axis=1)"
   ],
   "id": "c424c3363fa90553",
   "outputs": [],
   "execution_count": 56
  },
  {
   "metadata": {},
   "cell_type": "markdown",
   "source": "Создай массив случайных чисел размером 3x3x3. Для каждой \"глубины\" (первой оси) вычисли минимум, максимум и стандартное отклонение.",
   "id": "8d0113235391730f"
  },
  {
   "metadata": {
    "ExecuteTime": {
     "end_time": "2024-09-29T17:54:11.810633Z",
     "start_time": "2024-09-29T17:54:11.802633Z"
    }
   },
   "cell_type": "code",
   "source": [
    "np_array = np.random.randint(1, 21, (3,3,3))\n",
    "min_arr = np.min(np_array, axis=0)\n",
    "max_arr = np.max(np_array, axis=0)\n",
    "mean_arr = np.std(np_array, axis=0)"
   ],
   "id": "3898b12853dcdde2",
   "outputs": [],
   "execution_count": 60
  },
  {
   "metadata": {},
   "cell_type": "markdown",
   "source": "**Функции математической статистики**",
   "id": "a896cae5b82abdae"
  },
  {
   "metadata": {},
   "cell_type": "markdown",
   "source": "Создай массив случайных чисел размером 1000, распределенных равномерно от 0 до 100. Вычисли среднее, медиану, стандартное отклонение и дисперсию этого массива.",
   "id": "8bb0f4e663e14e09"
  },
  {
   "metadata": {
    "ExecuteTime": {
     "end_time": "2024-09-29T17:59:39.708530Z",
     "start_time": "2024-09-29T17:59:39.702115Z"
    }
   },
   "cell_type": "code",
   "source": [
    "np_array = np.random.uniform(0, 101, 1000)\n",
    "mean_arr = np.mean(np_array)\n",
    "med_arr = np.median(np_array)\n",
    "std_arr = np.std(np_array)\n",
    "dis_arr = np.var(np_array)"
   ],
   "id": "f00d44edc190e3dc",
   "outputs": [],
   "execution_count": 66
  },
  {
   "metadata": {},
   "cell_type": "markdown",
   "source": "Создай массив случайных чисел размером 500, распределенных нормально (используй np.random.normal). Найди 25-й, 50-й и 75-й процентили (квартильные значения) массива.",
   "id": "6a7e5f0bcd880929"
  },
  {
   "metadata": {
    "ExecuteTime": {
     "end_time": "2024-09-29T18:04:12.433481Z",
     "start_time": "2024-09-29T18:04:12.423576Z"
    }
   },
   "cell_type": "code",
   "source": [
    "np_array = np.random.normal(0, 1, 500)\n",
    "per_25 = np.percentile(np_array, 25)\n",
    "per_50 = np.percentile(np_array, 50)\n",
    "per_75 = np.percentile(np_array, 75)"
   ],
   "id": "99737567c6b5d06f",
   "outputs": [],
   "execution_count": 68
  },
  {
   "metadata": {},
   "cell_type": "markdown",
   "source": "Создай два массива случайных чисел одинакового размера (например, 100 элементов), распределенных нормально. Найди коэффициент корреляции между этими двумя массивами.",
   "id": "b78ae600d39b499b"
  },
  {
   "metadata": {
    "ExecuteTime": {
     "end_time": "2024-09-29T18:08:29.110197Z",
     "start_time": "2024-09-29T18:08:29.094292Z"
    }
   },
   "cell_type": "code",
   "source": [
    "np_array_1 = np.random.normal(0, 1, 100)\n",
    "np_array_2 = np.random.normal(0, 1, 100)\n",
    "cor_arr = np.corrcoef(np_array_1, np_array_2)"
   ],
   "id": "51837b1133a564b0",
   "outputs": [],
   "execution_count": 70
  }
 ],
 "metadata": {
  "kernelspec": {
   "display_name": "Python 3",
   "language": "python",
   "name": "python3"
  },
  "language_info": {
   "codemirror_mode": {
    "name": "ipython",
    "version": 2
   },
   "file_extension": ".py",
   "mimetype": "text/x-python",
   "name": "python",
   "nbconvert_exporter": "python",
   "pygments_lexer": "ipython2",
   "version": "2.7.6"
  }
 },
 "nbformat": 4,
 "nbformat_minor": 5
}
