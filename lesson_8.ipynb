{
 "cells": [
  {
   "cell_type": "code",
   "id": "initial_id",
   "metadata": {
    "collapsed": true,
    "ExecuteTime": {
     "end_time": "2024-10-03T11:35:55.083907Z",
     "start_time": "2024-10-03T11:35:54.843664Z"
    }
   },
   "source": "import numpy as np",
   "outputs": [],
   "execution_count": 2
  },
  {
   "metadata": {},
   "cell_type": "markdown",
   "source": [
    "# Умножение векторов\n",
    "Создай два одномерных массива-вектора и найди их скалярное произведение."
   ],
   "id": "a4aea597387b8824"
  },
  {
   "metadata": {
    "ExecuteTime": {
     "end_time": "2024-10-03T11:40:01.507474Z",
     "start_time": "2024-10-03T11:40:01.500263Z"
    }
   },
   "cell_type": "code",
   "source": [
    "vector_1 = np.random.randint(1, 11, 5)\n",
    "vector_2 = np.random.randint(1, 11, 5)\n",
    "result = np.dot(vector_1, vector_2)\n",
    "result2 = vector_1 @ vector_2\n",
    "result3 = np.inner(vector_1, vector_2)"
   ],
   "id": "8d7853d37a71be42",
   "outputs": [],
   "execution_count": 5
  },
  {
   "metadata": {},
   "cell_type": "markdown",
   "source": "Создай два одномерных массива-вектора длиной 3 и найди векторное произведение (cross product).",
   "id": "5f42c8c8a7eec6a9"
  },
  {
   "metadata": {
    "ExecuteTime": {
     "end_time": "2024-10-03T11:43:16.772366Z",
     "start_time": "2024-10-03T11:43:16.765404Z"
    }
   },
   "cell_type": "code",
   "source": [
    "vector_1 = np.random.randint(1, 11, 3)\n",
    "vector_2 = np.random.randint(1, 11, 3)\n",
    "result = np.cross(vector_1, vector_2)"
   ],
   "id": "bc9f727283486adf",
   "outputs": [],
   "execution_count": 12
  },
  {
   "metadata": {},
   "cell_type": "markdown",
   "source": "Даны два вектора длиной 4. Умножь их поэлементно и создай новый массив с результатами.",
   "id": "3fa2daae41472e3a"
  },
  {
   "metadata": {
    "ExecuteTime": {
     "end_time": "2024-10-03T11:44:05.227519Z",
     "start_time": "2024-10-03T11:44:05.221133Z"
    }
   },
   "cell_type": "code",
   "source": [
    "vector_1 = np.random.randint(1, 10, 4)\n",
    "vector_2 = np.random.randint(1, 10, 4)\n",
    "result = vector_1 * vector_2"
   ],
   "id": "d3fa812c6a89f0c9",
   "outputs": [],
   "execution_count": 13
  },
  {
   "metadata": {},
   "cell_type": "markdown",
   "source": [
    "# Умножение матриц\n",
    "Создай две матрицы размером 3x3 и найди их произведение."
   ],
   "id": "e2c5c8d856b1186d"
  },
  {
   "metadata": {},
   "cell_type": "code",
   "outputs": [],
   "execution_count": null,
   "source": [
    "mat_1 = np.random.randint(1, 11, (3, 3))\n",
    "mat_2 = np.random.randint(1, 11, (3, 3))\n",
    "result = np.dot(mat_1, mat_2)"
   ],
   "id": "5c76ec8a2f31c590"
  },
  {
   "metadata": {},
   "cell_type": "markdown",
   "source": "Создай матрицу размером 2x3 и матрицу 3x2, затем найди их произведение.",
   "id": "d9fdad1ae15ef03d"
  },
  {
   "metadata": {
    "ExecuteTime": {
     "end_time": "2024-10-03T11:47:09.832276Z",
     "start_time": "2024-10-03T11:47:09.825767Z"
    }
   },
   "cell_type": "code",
   "source": [
    "mat_1 = np.random.randint(1, 11, (2, 3))\n",
    "mat_2 = np.random.randint(1, 11, (3, 2))\n",
    "result = np.matmul(mat_1, mat_2)"
   ],
   "id": "c015168e2f05f8c3",
   "outputs": [],
   "execution_count": 14
  },
  {
   "metadata": {},
   "cell_type": "markdown",
   "source": "Создай две квадратные матрицы размером 4x4. Найди произведение этих матриц и посчитай определитель (determinant) результата.",
   "id": "d5bf72fb8099bd07"
  },
  {
   "metadata": {
    "ExecuteTime": {
     "end_time": "2024-10-03T11:48:57.919218Z",
     "start_time": "2024-10-03T11:48:57.911151Z"
    }
   },
   "cell_type": "code",
   "source": [
    "mat_1 = np.random.randint(1, 11, (4, 4))\n",
    "mat_2 = np.random.randint(1, 11, (4, 4))\n",
    "result = np.linalg.det(mat_1 @ mat_2)"
   ],
   "id": "1ee09a652aedc8c0",
   "outputs": [],
   "execution_count": 15
  },
  {
   "metadata": {},
   "cell_type": "markdown",
   "source": [
    "# Умножение матриц на вектор\n",
    "Создай матрицу размером 3x3 с целыми числами от 1 до 10 и вектор длиной 3 с числами от 1 до 5. Умножь матрицу на вектор и найди результат."
   ],
   "id": "ae2083f12f57b3fc"
  },
  {
   "metadata": {},
   "cell_type": "code",
   "outputs": [],
   "execution_count": null,
   "source": [
    "mat_1 = np.random.randint(1, 11, (3, 3))\n",
    "vector_1 = np.random.randint(1, 6, 3)\n",
    "result = mat_1 @ vector_1"
   ],
   "id": "4088076044c9e5d8"
  },
  {
   "metadata": {},
   "cell_type": "markdown",
   "source": "Создай матрицу 4x2 и вектор длиной 2 с случайными числами от 0 до 20. Найди произведение матрицы на вектор.",
   "id": "74bec462f23861f0"
  },
  {
   "metadata": {
    "ExecuteTime": {
     "end_time": "2024-10-03T11:53:00.247221Z",
     "start_time": "2024-10-03T11:53:00.240590Z"
    }
   },
   "cell_type": "code",
   "source": [
    "mat_1 = np.random.randint(0, 21, (4, 2))\n",
    "vector_1 = np.random.randint(0, 21, 2)\n",
    "result = np.dot(mat_1, vector_1)"
   ],
   "id": "33df758fc8358df9",
   "outputs": [],
   "execution_count": 16
  },
  {
   "metadata": {},
   "cell_type": "markdown",
   "source": "Дана матрица 5x5 и вектор длиной 5, созданные случайными целыми числами от 1 до 15. Умножь эту матрицу на вектор и выведи результат.",
   "id": "c651a40fc2b8f6f1"
  },
  {
   "metadata": {
    "ExecuteTime": {
     "end_time": "2024-10-03T11:53:40.417599Z",
     "start_time": "2024-10-03T11:53:40.412636Z"
    }
   },
   "cell_type": "code",
   "source": [
    "mat_1 = np.random.randint(0, 21, (4, 2))\n",
    "vector_1 = np.random.randint(0, 21, 2)\n",
    "result = np.dot(mat_1, vector_1)"
   ],
   "id": "be97155aa7b91888",
   "outputs": [],
   "execution_count": 17
  },
  {
   "metadata": {},
   "cell_type": "markdown",
   "source": [
    "# Элементы линейной алгебры\n",
    "Создай случайную квадратную матрицу размером 3×3 и найди её обратную матрицу."
   ],
   "id": "ab0d6a1f4606f5a1"
  },
  {
   "metadata": {
    "ExecuteTime": {
     "end_time": "2024-10-03T11:58:36.705604Z",
     "start_time": "2024-10-03T11:58:36.699015Z"
    }
   },
   "cell_type": "code",
   "source": [
    "mat_1 = np.random.randint(0, 9, (3, 3))\n",
    "result = np.linalg.inv(mat_1)"
   ],
   "id": "861017ff6a230b2e",
   "outputs": [],
   "execution_count": 20
  },
  {
   "metadata": {},
   "cell_type": "markdown",
   "source": "Создай случайную квадратную матрицу размером 4×4 и найди её собственные числа и собственные векторы.",
   "id": "5e0629eee10cf0c8"
  },
  {
   "metadata": {},
   "cell_type": "code",
   "outputs": [],
   "execution_count": null,
   "source": [
    "mat_1 = np.random.randint(0, 9, (4, 4))\n",
    "result = np.linalg.eig(mat_1)"
   ],
   "id": "d09169e40cd407c5"
  },
  {
   "metadata": {},
   "cell_type": "markdown",
   "source": [
    "2x+3y−z=1\n",
    "\n",
    "4x−2y+5z=2\n",
    "\n",
    "−x+y+4z=3\n",
    "\n",
    "Используй матричное представление для решения этой системы линейных уравнений."
   ],
   "id": "34f470deeb7523a7"
  },
  {
   "metadata": {
    "ExecuteTime": {
     "end_time": "2024-10-03T12:02:37.942454Z",
     "start_time": "2024-10-03T12:02:37.935691Z"
    }
   },
   "cell_type": "code",
   "source": [
    "A = np.array([[2, 3, -1],\n",
    "              [4, -2, 5],\n",
    "              [-1, 1, 4]])\n",
    "\n",
    "B = np.array([1, 2, 3])\n",
    "\n",
    "X = np.linalg.solve(A, B)"
   ],
   "id": "1edc175013c8fff6",
   "outputs": [],
   "execution_count": 22
  }
 ],
 "metadata": {
  "kernelspec": {
   "display_name": "Python 3",
   "language": "python",
   "name": "python3"
  },
  "language_info": {
   "codemirror_mode": {
    "name": "ipython",
    "version": 2
   },
   "file_extension": ".py",
   "mimetype": "text/x-python",
   "name": "python",
   "nbconvert_exporter": "python",
   "pygments_lexer": "ipython2",
   "version": "2.7.6"
  }
 },
 "nbformat": 4,
 "nbformat_minor": 5
}
