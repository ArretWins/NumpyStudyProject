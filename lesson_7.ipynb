{
 "cells": [
  {
   "cell_type": "code",
   "id": "initial_id",
   "metadata": {
    "collapsed": true,
    "ExecuteTime": {
     "end_time": "2024-10-01T16:57:33.724429Z",
     "start_time": "2024-10-01T16:57:33.430921Z"
    }
   },
   "source": "import numpy as np",
   "outputs": [],
   "execution_count": 1
  },
  {
   "metadata": {},
   "cell_type": "markdown",
   "source": [
    "# Сравнение массивов с числами\n",
    "Создай массив из случайных чисел от 1 до 50 размером 10. Найди элементы, которые больше 25."
   ],
   "id": "50728c5a06093673"
  },
  {
   "metadata": {
    "ExecuteTime": {
     "end_time": "2024-10-01T16:59:59.988109Z",
     "start_time": "2024-10-01T16:59:59.977682Z"
    }
   },
   "cell_type": "code",
   "source": [
    "np_array = np.random.randint(1, 51, 10)\n",
    "big_elements = np_array[np_array > 25]"
   ],
   "id": "c1bd7fa1ba866f80",
   "outputs": [],
   "execution_count": 4
  },
  {
   "metadata": {},
   "cell_type": "markdown",
   "source": "Создай двумерный массив размером 3x3 с числами от 0 до 8. Найди, какие элементы массива меньше 5.",
   "id": "c48097c10cff0a67"
  },
  {
   "metadata": {
    "ExecuteTime": {
     "end_time": "2024-10-01T17:02:19.262176Z",
     "start_time": "2024-10-01T17:02:19.251885Z"
    }
   },
   "cell_type": "code",
   "source": [
    "np_array = np.random.randint(0, 9, (3, 3))\n",
    "small_elements = np_array[np_array < 5]"
   ],
   "id": "676b7a5d19d582bf",
   "outputs": [],
   "execution_count": 6
  },
  {
   "metadata": {},
   "cell_type": "markdown",
   "source": "Создай массив случайных чисел от 10 до 100 размером 15. Определи, какие элементы массива кратны 3.",
   "id": "71774b2b30d586ff"
  },
  {
   "metadata": {
    "ExecuteTime": {
     "end_time": "2024-10-01T17:04:22.814127Z",
     "start_time": "2024-10-01T17:04:22.802199Z"
    }
   },
   "cell_type": "code",
   "source": [
    "np_array = np.random.randint(10, 101, 15)\n",
    "new_array = np_array[np_array % 3 == 0]"
   ],
   "id": "4d5f3465108c03ee",
   "outputs": [],
   "execution_count": 9
  },
  {
   "metadata": {},
   "cell_type": "markdown",
   "source": [
    "# Сравнение массивов одинакового размера\n",
    "Создай два массива по 7 элементов каждый. Найди, какие элементы одного массива больше соответствующих элементов другого массива."
   ],
   "id": "5a20649198da3d46"
  },
  {
   "metadata": {
    "ExecuteTime": {
     "end_time": "2024-10-01T17:35:42.825226Z",
     "start_time": "2024-10-01T17:35:42.818596Z"
    }
   },
   "cell_type": "code",
   "source": [
    "np_array_1 = np.random.randint(1, 8, 7)\n",
    "np_array_2 = np.random.randint(1, 8, 7)\n",
    "final_array = np_array_1[np_array_1 > np_array_2]"
   ],
   "id": "9370d05477d93739",
   "outputs": [
    {
     "name": "stdout",
     "output_type": "stream",
     "text": [
      "[4 6]\n"
     ]
    }
   ],
   "execution_count": 21
  },
  {
   "metadata": {},
   "cell_type": "markdown",
   "source": "Создай два массива размером 4x4. Выведи массив с результатами сравнения: какие элементы первого массива равны элементам второго массива.",
   "id": "8b865e7677fbdcd8"
  },
  {
   "metadata": {
    "ExecuteTime": {
     "end_time": "2024-10-01T17:35:55.721258Z",
     "start_time": "2024-10-01T17:35:55.715244Z"
    }
   },
   "cell_type": "code",
   "source": [
    "np_array_1 = np.random.randint(1, 8, (4,4))\n",
    "np_array_2 = np.random.randint(1, 8, (4,4))\n",
    "final_array = np_array_1[np_array_1 == np_array_2]"
   ],
   "id": "51d9551dc2a222f5",
   "outputs": [],
   "execution_count": 23
  },
  {
   "metadata": {},
   "cell_type": "markdown",
   "source": "Создай два массива из случайных чисел от 1 до 20 размером 5x5. Определи, какие элементы одного массива меньше соответствующих элементов другого массива.",
   "id": "335f0738128a8d0f"
  },
  {
   "metadata": {
    "ExecuteTime": {
     "end_time": "2024-10-01T17:36:55.380357Z",
     "start_time": "2024-10-01T17:36:55.374500Z"
    }
   },
   "cell_type": "code",
   "source": [
    "np_array_1 = np.random.randint(1, 11, (5,5))\n",
    "np_array_2 = np.random.randint(1, 11, (5,5))\n",
    "final_array = np_array_1[np_array_1 < np_array_2]"
   ],
   "id": "98526f19bc939cee",
   "outputs": [],
   "execution_count": 24
  },
  {
   "metadata": {},
   "cell_type": "markdown",
   "source": [
    "# Сравнение согласованных массивов\n",
    "Создай одномерный массив из 5 чисел и двумерный массив 5x5. Выведи массив с результатом сравнения: какие элементы строк двумерного массива больше соответствующих элементов одномерного массива.\n",
    "\n"
   ],
   "id": "e19d311285c797ee"
  },
  {
   "metadata": {
    "ExecuteTime": {
     "end_time": "2024-10-01T17:50:46.924855Z",
     "start_time": "2024-10-01T17:50:46.919067Z"
    }
   },
   "cell_type": "code",
   "source": [
    "np_array_1 = np.arange(1, 26).reshape(5, 5)\n",
    "np_array_2 = np.arange(1, 6)\n",
    "final_array = np_array_1 > np_array_2"
   ],
   "id": "da5764fab804cac6",
   "outputs": [],
   "execution_count": 32
  },
  {
   "metadata": {},
   "cell_type": "markdown",
   "source": "Создай массив из 6 элементов и двумерный массив размером 6x3. Проверь, какие элементы строк двумерного массива равны элементам одномерного массива.",
   "id": "8533ad705a83809d"
  },
  {
   "metadata": {
    "ExecuteTime": {
     "end_time": "2024-10-01T17:53:50.965446Z",
     "start_time": "2024-10-01T17:53:50.958081Z"
    }
   },
   "cell_type": "code",
   "source": [
    "np_array_1 = np.random.randint(1, 21, 6)\n",
    "np_array_2 = np.random.randint(1, 21, (6, 3))\n",
    "final_array = np_array_2 == np_array_1[:, np.newaxis]"
   ],
   "id": "de605dd2e9425941",
   "outputs": [],
   "execution_count": 34
  },
  {
   "metadata": {},
   "cell_type": "markdown",
   "source": "Создай массив размером 3x1 и массив размером 1x3. Найди, какие элементы первого массива больше второго, используя трансляцию.",
   "id": "3a5418f811cfcaee"
  },
  {
   "metadata": {},
   "cell_type": "code",
   "outputs": [],
   "execution_count": null,
   "source": [
    "np_array_1 = np.random.randint(1, 21, (3, 1))\n",
    "np_array_2 = np.random.randint(1, 21, (1, 3))\n",
    "result = np_array_1 > np_array_2"
   ],
   "id": "b5878ef1c4105fed"
  },
  {
   "metadata": {},
   "cell_type": "markdown",
   "source": [
    "# Функции для сравнения массивов\n",
    "Создай два массива размером 4x3. С помощью функции np.greater() узнай, какие элементы первого массива больше элементов второго."
   ],
   "id": "3cba95b9b6b65630"
  },
  {
   "metadata": {
    "ExecuteTime": {
     "end_time": "2024-10-01T18:00:23.477685Z",
     "start_time": "2024-10-01T18:00:23.471836Z"
    }
   },
   "cell_type": "code",
   "source": [
    "np_array_1 = np.random.randint(1, 21, (4,3))\n",
    "np_array_2 = np.random.randint(1, 21, (4,3))\n",
    "result = np.greater(np_array_1, np_array_2)"
   ],
   "id": "13a90c28752ea2a5",
   "outputs": [],
   "execution_count": 37
  },
  {
   "metadata": {},
   "cell_type": "markdown",
   "source": "Создай два одномерных массива размером 8. Используй np.less_equal(), чтобы узнать, какие элементы одного массива меньше либо равны соответствующим элементам другого.",
   "id": "9c318cd9c0809795"
  },
  {
   "metadata": {
    "ExecuteTime": {
     "end_time": "2024-10-01T18:01:19.845744Z",
     "start_time": "2024-10-01T18:01:19.840905Z"
    }
   },
   "cell_type": "code",
   "source": [
    "np_array_1 = np.random.randint(1, 9)\n",
    "np_array_2 = np.random.randint(1, 9)\n",
    "result = np.less_equal(np_array_1, np_array_2)"
   ],
   "id": "9bf916016d298ddf",
   "outputs": [],
   "execution_count": 38
  },
  {
   "metadata": {},
   "cell_type": "markdown",
   "source": "Создай два массива 3x3. С помощью np.not_equal() найди, какие элементы первого массива не равны элементам второго.",
   "id": "3cd1689c86d994b3"
  },
  {
   "metadata": {
    "ExecuteTime": {
     "end_time": "2024-10-01T18:01:53.994526Z",
     "start_time": "2024-10-01T18:01:53.988387Z"
    }
   },
   "cell_type": "code",
   "source": [
    "np_array_1 = np.random.randint(1, 9, (3,3))\n",
    "np_array_2 = np.random.randint(1, 9, (3,3))\n",
    "result = np.not_equal(np_array_1, np_array_2)"
   ],
   "id": "69580e3dbb9a5cf0",
   "outputs": [],
   "execution_count": 39
  },
  {
   "metadata": {},
   "cell_type": "markdown",
   "source": [
    "# Проверка массивов на равенство\n",
    "Создай два одинаковых массива размером 5x5 с целыми числами. Используй np.array_equal(), чтобы проверить, равны ли они."
   ],
   "id": "a453c5abb1e847e9"
  },
  {
   "metadata": {
    "ExecuteTime": {
     "end_time": "2024-10-01T18:03:53.378772Z",
     "start_time": "2024-10-01T18:03:53.371893Z"
    }
   },
   "cell_type": "code",
   "source": [
    "np_array_1 = np.random.randint(1, 9, (5,5))\n",
    "np_array_2 = np.random.randint(1, 9, (5,5))\n",
    "result = np.array_equal(np_array_1, np_array_2)"
   ],
   "id": "39dfcce34e92a747",
   "outputs": [],
   "execution_count": 40
  },
  {
   "metadata": {},
   "cell_type": "markdown",
   "source": "Создай два массива размером 4x4. Проверь их на равенство с помощью функции np.allclose(), используя маленькую погрешность для сравнения.",
   "id": "81ab7b2252284c27"
  },
  {
   "metadata": {},
   "cell_type": "code",
   "outputs": [],
   "execution_count": null,
   "source": [
    "np_array_1 = np.random.randint(1, 9, (4,4))\n",
    "np_array_2 = np.random.randint(1, 9, (4,4))\n",
    "result = np.allclose(np_array_1, np_array_2)"
   ],
   "id": "cf62aa5604ff2936"
  },
  {
   "metadata": {},
   "cell_type": "markdown",
   "source": [
    "# Проверка несогласованных массивов\n",
    "Создай два массива разных форм (например, 3x3 и 1x9). Используй функцию np.broadcast для приведения их к совместимой форме."
   ],
   "id": "1d1b01c6ddfe9f1"
  },
  {
   "metadata": {
    "ExecuteTime": {
     "end_time": "2024-10-01T19:06:08.360959Z",
     "start_time": "2024-10-01T19:06:08.351431Z"
    }
   },
   "cell_type": "code",
   "source": [
    "np_array_1 = np.random.randint(1, 10, (3,3))\n",
    "np_array_2 = np.random.randint(1, 10, (1,3))\n",
    "result = np.broadcast(np_array_1, np_array_2)"
   ],
   "id": "2c7675e176e5c3b4",
   "outputs": [],
   "execution_count": 51
  },
  {
   "metadata": {},
   "cell_type": "markdown",
   "source": [
    "Создай два несогласованных массива (например, 4x1 и 4x5). Приведи их к согласованной форме с помощью трансляции (broadcasting) и сложи их.\n",
    "\n"
   ],
   "id": "7080429a718f98bf"
  },
  {
   "metadata": {
    "ExecuteTime": {
     "end_time": "2024-10-01T19:06:11.686691Z",
     "start_time": "2024-10-01T19:06:11.675442Z"
    }
   },
   "cell_type": "code",
   "source": [
    "np_array_1 = np.random.randint(1, 10, (4, 1))\n",
    "np_array_2 = np.random.randint(1, 10, (4, 5))\n",
    "result = np_array_1 + np_array_2"
   ],
   "id": "1f032eb1f6395d3c",
   "outputs": [],
   "execution_count": 52
  },
  {
   "metadata": {},
   "cell_type": "markdown",
   "source": [
    "Используй функцию np.broadcast_to для трансляции одного массива к форме другого и посмотри, как работает эта функция.\n",
    "\n"
   ],
   "id": "449565e269e8312f"
  },
  {
   "metadata": {
    "ExecuteTime": {
     "end_time": "2024-10-01T19:08:24.760748Z",
     "start_time": "2024-10-01T19:08:24.750879Z"
    }
   },
   "cell_type": "code",
   "source": [
    "np_array_1 = np.random.randint(1, 10, (3, 1))\n",
    "result = np.broadcast_to(np_array_1, (3, 3))"
   ],
   "id": "dfa8771fbac2e26e",
   "outputs": [],
   "execution_count": 56
  },
  {
   "metadata": {},
   "cell_type": "markdown",
   "source": [
    "# Функции all() и any()\n",
    "Создай двумерный массив размером 4x4. Используй np.all(), чтобы проверить, являются ли все элементы массива положительными."
   ],
   "id": "75def2a0b12e9c2d"
  },
  {
   "metadata": {
    "ExecuteTime": {
     "end_time": "2024-10-01T19:10:04.235579Z",
     "start_time": "2024-10-01T19:10:04.220950Z"
    }
   },
   "cell_type": "code",
   "source": [
    "np_array_1 = np.random.randint(-2, 10, (4, 4))\n",
    "result = np.all(np_array_1>0)"
   ],
   "id": "eada9b995078ddc8",
   "outputs": [],
   "execution_count": 59
  },
  {
   "metadata": {},
   "cell_type": "markdown",
   "source": "Создай одномерный массив из 10 элементов. Проверь, есть ли хотя бы одно число больше 50 с помощью np.any().",
   "id": "ebe4bec91cd0a6dd"
  },
  {
   "metadata": {
    "ExecuteTime": {
     "end_time": "2024-10-01T19:11:29.994112Z",
     "start_time": "2024-10-01T19:11:29.985110Z"
    }
   },
   "cell_type": "code",
   "source": [
    "np_array_1 = np.random.randint(0, 60, 10)\n",
    "result = np.any(np_array_1 > 50)"
   ],
   "id": "4ffe09bf05ad1637",
   "outputs": [],
   "execution_count": 62
  },
  {
   "metadata": {},
   "cell_type": "markdown",
   "source": [
    "Создай одномерный массив из 10 элементов. Проверь, есть ли хотя бы одно число больше 50 с помощью np.any().\n",
    "\n"
   ],
   "id": "da10189eac1509ec"
  },
  {
   "metadata": {
    "ExecuteTime": {
     "end_time": "2024-10-01T19:14:46.315331Z",
     "start_time": "2024-10-01T19:14:46.304779Z"
    }
   },
   "cell_type": "code",
   "source": [
    "np_array_1 = np.random.randint(0, 60, (3,3))\n",
    "result = np.all(np_array_1>0) and np.any(np_array_1==0)"
   ],
   "id": "1f138874cc35137",
   "outputs": [],
   "execution_count": 68
  }
 ],
 "metadata": {
  "kernelspec": {
   "display_name": "Python 3",
   "language": "python",
   "name": "python3"
  },
  "language_info": {
   "codemirror_mode": {
    "name": "ipython",
    "version": 2
   },
   "file_extension": ".py",
   "mimetype": "text/x-python",
   "name": "python",
   "nbconvert_exporter": "python",
   "pygments_lexer": "ipython2",
   "version": "2.7.6"
  }
 },
 "nbformat": 4,
 "nbformat_minor": 5
}
