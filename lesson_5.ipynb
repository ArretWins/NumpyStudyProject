{
 "cells": [
  {
   "cell_type": "code",
   "id": "initial_id",
   "metadata": {
    "collapsed": true,
    "ExecuteTime": {
     "end_time": "2024-09-29T11:25:04.045431Z",
     "start_time": "2024-09-29T11:25:03.894169Z"
    }
   },
   "source": "import numpy as np",
   "outputs": [],
   "execution_count": 1
  },
  {
   "metadata": {},
   "cell_type": "markdown",
   "source": "Создай массив из 10 случайных целых чисел от 1 до 20. Умножь все элементы массива на 5.",
   "id": "a9903fa556ecda61"
  },
  {
   "metadata": {
    "ExecuteTime": {
     "end_time": "2024-09-29T11:40:49.717441Z",
     "start_time": "2024-09-29T11:40:49.711545Z"
    }
   },
   "cell_type": "code",
   "source": [
    "np_array = np.random.randint(1, 21, 10)\n",
    "np_array *= 5"
   ],
   "id": "39eff1d305bf0250",
   "outputs": [],
   "execution_count": 3
  },
  {
   "metadata": {},
   "cell_type": "markdown",
   "source": "Создай массив из чисел от 1 до 15. Возведи все элементы массива в квадрат.",
   "id": "dbf6cad90998465f"
  },
  {
   "metadata": {
    "ExecuteTime": {
     "end_time": "2024-09-29T11:41:40.055230Z",
     "start_time": "2024-09-29T11:41:40.050218Z"
    }
   },
   "cell_type": "code",
   "source": [
    "np_array = np.random.randint(1, 16, 10)\n",
    "np_array **= 2"
   ],
   "id": "e37d8eef671af314",
   "outputs": [],
   "execution_count": 5
  },
  {
   "metadata": {},
   "cell_type": "markdown",
   "source": "Создай двумерный массив размером 4x4, заполненный случайными числами от 10 до 50. Раздели все элементы массива на число 2.5",
   "id": "4b2c3e2b6ebe9435"
  },
  {
   "metadata": {
    "ExecuteTime": {
     "end_time": "2024-09-29T11:43:45.409311Z",
     "start_time": "2024-09-29T11:43:45.403129Z"
    }
   },
   "cell_type": "code",
   "source": [
    "np_array = np.random.randint(10, 51, (4,4))\n",
    "np_array = np_array/2.5"
   ],
   "id": "2a66188aa00842ed",
   "outputs": [],
   "execution_count": 9
  },
  {
   "metadata": {},
   "cell_type": "markdown",
   "source": "Создай два одномерных массива размером 7, заполненных случайными целыми числами от 10 до 50. Найди сумму этих массивов.",
   "id": "f4e1cb0e99d0c718"
  },
  {
   "metadata": {
    "ExecuteTime": {
     "end_time": "2024-09-29T11:46:24.832936Z",
     "start_time": "2024-09-29T11:46:24.826047Z"
    }
   },
   "cell_type": "code",
   "source": [
    "np_array_1 = np.random.randint(10, 51, 7)\n",
    "np_array_2 = np.random.randint(10, 51, 7)\n",
    "np_array_3 = np_array_1 + np_array_2"
   ],
   "id": "75183f82c9af5580",
   "outputs": [],
   "execution_count": 11
  },
  {
   "metadata": {},
   "cell_type": "markdown",
   "source": "Создай два двумерных массива размером 3x3, заполненных случайными целыми числами от 5 до 25. Вычти один массив из другого.",
   "id": "a32f74ac8c0c7546"
  },
  {
   "metadata": {
    "ExecuteTime": {
     "end_time": "2024-09-29T11:48:12.811134Z",
     "start_time": "2024-09-29T11:48:12.803520Z"
    }
   },
   "cell_type": "code",
   "source": [
    "np_array_1 = np.random.randint(5, 26, (3,3))\n",
    "np_array_2 = np.random.randint(5, 26, (3,3))\n",
    "np_array_3 = np_array_1 - np_array_2"
   ],
   "id": "234de2ac973b2ff6",
   "outputs": [],
   "execution_count": 14
  },
  {
   "metadata": {},
   "cell_type": "markdown",
   "source": "Создай два одномерных массива размером 5, заполненных случайными целыми числами от 1 до 10. Выполни поэлементное умножение этих массивов.",
   "id": "c5240e32fd82b78c"
  },
  {
   "metadata": {
    "ExecuteTime": {
     "end_time": "2024-09-29T11:49:54.339411Z",
     "start_time": "2024-09-29T11:49:54.332132Z"
    }
   },
   "cell_type": "code",
   "source": [
    "np_array_1 = np.random.randint(1, 11, 5)\n",
    "np_array_2 = np.random.randint(1, 11, 5)\n",
    "np_array_3 = np_array_1 * np_array_2"
   ],
   "id": "65f7e6f0ed310f2d",
   "outputs": [],
   "execution_count": 15
  },
  {
   "metadata": {},
   "cell_type": "markdown",
   "source": "**Транслирование массивов**",
   "id": "c53905fe15637b52"
  },
  {
   "metadata": {},
   "cell_type": "markdown",
   "source": "Создай одномерный массив размером 5, заполненный случайными целыми числами от 1 до 20. Создай двумерный массив размером 3x5, заполнив его случайными числами от 10 до 50. Умножь одномерный массив на двумерный, используя транслирование.",
   "id": "f5ce754fd1dfb8c4"
  },
  {
   "metadata": {
    "ExecuteTime": {
     "end_time": "2024-09-29T11:58:41.621906Z",
     "start_time": "2024-09-29T11:58:41.616676Z"
    }
   },
   "cell_type": "code",
   "source": [
    "np_array_1 = np.random.randint(1, 21, 5)\n",
    "np_array_2 = np.random.randint(10, 50, (3,5))\n",
    "np_array_3 = np_array_1 * np_array_2"
   ],
   "id": "4f1c05dea5739410",
   "outputs": [],
   "execution_count": 26
  },
  {
   "metadata": {},
   "cell_type": "markdown",
   "source": "Создай двумерный массив размером 2x3, заполненный случайными целыми числами от 1 до 15. Добавь новую ось к этому массиву, чтобы получить массив размером 2x1x3. Создай одномерный массив из 3 элементов и умножь его на изменённый двумерный массив.",
   "id": "937268684106cac8"
  },
  {
   "metadata": {
    "ExecuteTime": {
     "end_time": "2024-09-29T12:04:21.430117Z",
     "start_time": "2024-09-29T12:04:21.423723Z"
    }
   },
   "cell_type": "code",
   "source": [
    "np_array_1 = np.random.randint(1, 16, (2,3))[:,np.newaxis,:]\n",
    "np_array_2 = np.array([1,2,3])[np.newaxis, np.newaxis, :]\n",
    "np_array_3 = np_array_1 * np_array_2"
   ],
   "id": "79d9ce486ea816f3",
   "outputs": [],
   "execution_count": 36
  },
  {
   "metadata": {},
   "cell_type": "markdown",
   "source": "Создай двумерный массив размером 4x4, заполненный случайными числами от 0 до 20. Создай одномерный массив из 4 элементов, заполненный случайными числами от 1 до 5. Сложи двумерный массив с одномерным массивом, используя транслирование.",
   "id": "c1e6194a82def883"
  },
  {
   "metadata": {
    "ExecuteTime": {
     "end_time": "2024-09-29T12:10:26.966175Z",
     "start_time": "2024-09-29T12:10:26.959406Z"
    }
   },
   "cell_type": "code",
   "source": [
    "np_array_1 = np.random.randint(0, 20, (4,4))\n",
    "np_array_2 = np.random.randint(1, 6, 4)\n",
    "np_array_2 = np_array_2[:, np.newaxis]\n",
    "np_array_3 = np_array_1 + np_array_2"
   ],
   "id": "55398a068d5228ac",
   "outputs": [],
   "execution_count": 43
  },
  {
   "metadata": {},
   "cell_type": "markdown",
   "source": "Создай двумерный массив размером 3x4, заполненный случайными целыми числами от 0 до 10. Создай одномерный массив из 3 элементов, заполненный случайными целыми числами от 1 до 5. Сложи двумерный массив с одномерным массивом, используя транслирование.",
   "id": "d9a769e2875d9139"
  },
  {
   "metadata": {
    "ExecuteTime": {
     "end_time": "2024-09-29T12:14:07.484241Z",
     "start_time": "2024-09-29T12:14:07.476748Z"
    }
   },
   "cell_type": "code",
   "source": [
    "np_array_1 = np.random.randint(1, 11, (3,4))\n",
    "np_array_2 = np.random.randint(1, 6, 3)\n",
    "np_array_2 = np_array_2[:, np.newaxis]\n",
    "np_array_3 = np_array_1 + np_array_2"
   ],
   "id": "ee5df5353bd279bd",
   "outputs": [],
   "execution_count": 47
  },
  {
   "metadata": {},
   "cell_type": "markdown",
   "source": "Создай массив размером 5x2, заполненный случайными целыми числами от 0 до 20. Создай одномерный массив из 2 элементов, заполненный случайными числами от 5 до 15. Вычти одномерный массив из двумерного массива, используя механизмы транслирования.",
   "id": "b7398851ec882f41"
  },
  {
   "metadata": {
    "ExecuteTime": {
     "end_time": "2024-09-29T12:17:12.453144Z",
     "start_time": "2024-09-29T12:17:12.446328Z"
    }
   },
   "cell_type": "code",
   "source": [
    "np_array_1 = np.random.randint(0, 20, (5,2))\n",
    "np_array_2 = np.random.randint(5, 16, 2)\n",
    "np_array_2 = np_array_2[np.newaxis ,:]\n",
    "np_array_3 = np_array_1 + np_array_2"
   ],
   "id": "91aee67c4b1a31c8",
   "outputs": [],
   "execution_count": 53
  },
  {
   "metadata": {},
   "cell_type": "markdown",
   "source": "Создай двумерный массив размером 4x3, заполненный случайными числами от 1 до 10. Создай одномерный массив из 4 элементов, заполненный случайными числами от 2 до 5. Умножь двумерный массив на одномерный, используя транслирование.",
   "id": "dabfd4043081130e"
  },
  {
   "metadata": {
    "ExecuteTime": {
     "end_time": "2024-09-29T12:17:05.992234Z",
     "start_time": "2024-09-29T12:17:05.986710Z"
    }
   },
   "cell_type": "code",
   "source": [
    "np_array_1 = np.random.randint(1, 11, (4, 3))\n",
    "np_array_2 = np.random.randint(2, 5, 4)\n",
    "np_array_2 = np_array_2[:, np.newaxis]\n",
    "np_array_3 = np_array_1 * np_array_2"
   ],
   "id": "6ad31f519bf9ef27",
   "outputs": [],
   "execution_count": 52
  },
  {
   "metadata": {},
   "cell_type": "markdown",
   "source": "Создай массив A размером (3, 4) с случайными целыми числами от 1 до 10. Создай массив B размером (4, 3) с случайными целыми числами от 1 до 10. Преобразуй массив B так, чтобы его размерность совпадала с размерностью (3, 4), используя механизмы транслирования, и сложи его с массивом A.",
   "id": "3b5f0c2d479baa32"
  },
  {
   "metadata": {
    "ExecuteTime": {
     "end_time": "2024-09-29T12:24:51.731537Z",
     "start_time": "2024-09-29T12:24:51.725070Z"
    }
   },
   "cell_type": "code",
   "source": [
    "A = np.random.randint(1, 11, (3, 4))\n",
    "B = np.random.randint(1, 11, (4, 3))\n",
    "B = B.transpose()\n",
    "result = B + A"
   ],
   "id": "931e00ff5674caf5",
   "outputs": [],
   "execution_count": 62
  },
  {
   "metadata": {},
   "cell_type": "markdown",
   "source": "Создай массив C размером (2, 3, 4) с случайными числами от 1 до 10. Создай массив D размером (3, 4) с случайными числами от 1 до 10. Умножь массив C на массив D, используя механизмы транслирования, чтобы получить новый массив.",
   "id": "e80c975d9d73a0aa"
  },
  {
   "metadata": {
    "ExecuteTime": {
     "end_time": "2024-09-29T12:25:06.866735Z",
     "start_time": "2024-09-29T12:25:06.859647Z"
    }
   },
   "cell_type": "code",
   "source": [
    "C = np.random.randint(1, 11, (2, 3, 4))\n",
    "D = np.random.randint(1, 11, (3, 4))\n",
    "D = D[np.newaxis, :]\n",
    "result = C * D"
   ],
   "id": "87a9c2d567daeff3",
   "outputs": [],
   "execution_count": 64
  }
 ],
 "metadata": {
  "kernelspec": {
   "display_name": "Python 3",
   "language": "python",
   "name": "python3"
  },
  "language_info": {
   "codemirror_mode": {
    "name": "ipython",
    "version": 2
   },
   "file_extension": ".py",
   "mimetype": "text/x-python",
   "name": "python",
   "nbconvert_exporter": "python",
   "pygments_lexer": "ipython2",
   "version": "2.7.6"
  }
 },
 "nbformat": 4,
 "nbformat_minor": 5
}
