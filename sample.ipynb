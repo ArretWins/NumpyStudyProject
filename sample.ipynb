{
 "cells": [
  {
   "metadata": {
    "ExecuteTime": {
     "end_time": "2024-09-24T16:48:44.829426Z",
     "start_time": "2024-09-24T16:48:44.669977Z"
    }
   },
   "cell_type": "code",
   "source": "import numpy as np",
   "id": "fbc121e30a2defb3",
   "outputs": [],
   "execution_count": 2
  },
  {
   "metadata": {
    "ExecuteTime": {
     "end_time": "2024-09-24T17:42:38.413624Z",
     "start_time": "2024-09-24T17:42:38.403495Z"
    }
   },
   "cell_type": "code",
   "source": "np.array([1, 2, 3, 4, 5])",
   "id": "1768916641609d2d",
   "outputs": [
    {
     "data": {
      "text/plain": [
       "array([1, 2, 3, 4, 5])"
      ]
     },
     "execution_count": 20,
     "metadata": {},
     "output_type": "execute_result"
    }
   ],
   "execution_count": 20
  },
  {
   "metadata": {
    "ExecuteTime": {
     "end_time": "2024-09-24T18:35:30.031017Z",
     "start_time": "2024-09-24T18:35:30.017494Z"
    }
   },
   "cell_type": "code",
   "source": [
    "arr = np.array([[1, 2, 3],[4, 5, 6], [7, 8, 9]])\n",
    "arr"
   ],
   "id": "4d62005e7ea3d32c",
   "outputs": [
    {
     "data": {
      "text/plain": [
       "array([[1, 2, 3],\n",
       "       [4, 5, 6],\n",
       "       [7, 8, 9]])"
      ]
     },
     "execution_count": 43,
     "metadata": {},
     "output_type": "execute_result"
    }
   ],
   "execution_count": 43
  },
  {
   "metadata": {
    "ExecuteTime": {
     "end_time": "2024-09-24T18:32:33.426075Z",
     "start_time": "2024-09-24T18:32:33.416215Z"
    }
   },
   "cell_type": "code",
   "source": [
    "arr_n = arr.ndim #кол-во осей\n",
    "arr_sz = arr.size #кол-во элементов в массиве\n",
    "arr_sh = arr.shape#кортеж с кол-вом элементов на каждой оси\n",
    "arr_dt = arr.dtype#тип данных в массиве"
   ],
   "id": "d1cd33f5df1ea056",
   "outputs": [],
   "execution_count": 39
  },
  {
   "metadata": {
    "ExecuteTime": {
     "end_time": "2024-09-24T18:34:59.610981Z",
     "start_time": "2024-09-24T18:34:59.593325Z"
    }
   },
   "cell_type": "code",
   "source": [
    "arr = np.empty([3, 3, 2])\n",
    "arr"
   ],
   "id": "3cf3c4809f4fcd57",
   "outputs": [
    {
     "data": {
      "text/plain": [
       "array([[[1.37962049e-306, 1.24610791e-306],\n",
       "        [1.11260959e-306, 1.69109959e-306],\n",
       "        [9.34603679e-307, 1.42419802e-306]],\n",
       "\n",
       "       [[1.78019082e-306, 4.45061456e-308],\n",
       "        [1.24612081e-306, 1.37962049e-306],\n",
       "        [9.34597567e-307, 1.29061821e-306]],\n",
       "\n",
       "       [[1.78019625e-306, 1.11255866e-306],\n",
       "        [8.90098127e-307, 9.34609790e-307],\n",
       "        [3.91792279e-317, 6.89805150e-307]]])"
      ]
     },
     "execution_count": 42,
     "metadata": {},
     "output_type": "execute_result"
    }
   ],
   "execution_count": 42
  },
  {
   "metadata": {
    "ExecuteTime": {
     "end_time": "2024-09-24T18:17:09.815865Z",
     "start_time": "2024-09-24T18:17:09.807390Z"
    }
   },
   "cell_type": "code",
   "source": "np.full([3,2,3], 2)",
   "id": "21ec867a28188f45",
   "outputs": [
    {
     "data": {
      "text/plain": [
       "array([[[2, 2, 2],\n",
       "        [2, 2, 2]],\n",
       "\n",
       "       [[2, 2, 2],\n",
       "        [2, 2, 2]],\n",
       "\n",
       "       [[2, 2, 2],\n",
       "        [2, 2, 2]]])"
      ]
     },
     "execution_count": 32,
     "metadata": {},
     "output_type": "execute_result"
    }
   ],
   "execution_count": 32
  },
  {
   "metadata": {
    "ExecuteTime": {
     "end_time": "2024-09-24T18:19:58.214836Z",
     "start_time": "2024-09-24T18:19:58.197339Z"
    }
   },
   "cell_type": "code",
   "source": "np.array([[1, 2, 3],[4, 5, 6], [7, 8, 9]])",
   "id": "bda98ca1d3577317",
   "outputs": [
    {
     "data": {
      "text/plain": [
       "array([[1, 2, 3],\n",
       "       [4, 5, 6],\n",
       "       [7, 8, 9]])"
      ]
     },
     "execution_count": 33,
     "metadata": {},
     "output_type": "execute_result"
    }
   ],
   "execution_count": 33
  },
  {
   "metadata": {
    "ExecuteTime": {
     "end_time": "2024-09-24T18:20:15.364002Z",
     "start_time": "2024-09-24T18:20:15.340190Z"
    }
   },
   "cell_type": "code",
   "source": "np.matrix([[1, 2, 3],[4, 5, 6]])",
   "id": "a23cb3cf535bbfea",
   "outputs": [
    {
     "data": {
      "text/plain": [
       "matrix([[1, 2, 3],\n",
       "        [4, 5, 6],\n",
       "        [7, 8, 9]])"
      ]
     },
     "execution_count": 35,
     "metadata": {},
     "output_type": "execute_result"
    }
   ],
   "execution_count": 35
  },
  {
   "metadata": {
    "ExecuteTime": {
     "end_time": "2024-09-24T18:21:42.593195Z",
     "start_time": "2024-09-24T18:21:42.576708Z"
    }
   },
   "cell_type": "code",
   "source": "np.diag([1, 2, 3])",
   "id": "8aaef133c97fa7df",
   "outputs": [
    {
     "data": {
      "text/plain": [
       "array([[1, 0, 0],\n",
       "       [0, 2, 0],\n",
       "       [0, 0, 3]])"
      ]
     },
     "execution_count": 36,
     "metadata": {},
     "output_type": "execute_result"
    }
   ],
   "execution_count": 36
  },
  {
   "metadata": {},
   "cell_type": "code",
   "outputs": [],
   "execution_count": null,
   "source": "",
   "id": "b0b962b943c8c39d"
  }
 ],
 "metadata": {
  "kernelspec": {
   "display_name": "Python 3",
   "language": "python",
   "name": "python3"
  },
  "language_info": {
   "codemirror_mode": {
    "name": "ipython",
    "version": 2
   },
   "file_extension": ".py",
   "mimetype": "text/x-python",
   "name": "python",
   "nbconvert_exporter": "python",
   "pygments_lexer": "ipython2",
   "version": "2.7.6"
  }
 },
 "nbformat": 4,
 "nbformat_minor": 5
}
