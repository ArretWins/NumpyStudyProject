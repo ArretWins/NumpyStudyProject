{
 "cells": [
  {
   "metadata": {
    "ExecuteTime": {
     "end_time": "2024-10-05T11:59:56.279138Z",
     "start_time": "2024-10-05T11:59:53.268004Z"
    }
   },
   "cell_type": "code",
   "source": [
    "import pandas as pd\n",
    "import numpy as np"
   ],
   "id": "4c35e54febbd551",
   "outputs": [],
   "execution_count": 2
  },
  {
   "metadata": {},
   "cell_type": "markdown",
   "source": "Создание Series из List",
   "id": "686bfd99ab49d889"
  },
  {
   "metadata": {
    "ExecuteTime": {
     "end_time": "2024-10-03T14:04:15.389660Z",
     "start_time": "2024-10-03T14:04:15.373702Z"
    }
   },
   "cell_type": "code",
   "source": [
    "lst = [20, 30, 40]\n",
    "print(lst)\n",
    "print(type(lst))\n",
    "srs = pd.Series(lst)\n",
    "print(srs)\n",
    "print(type(srs))"
   ],
   "id": "4916d4cdc4089f3e",
   "outputs": [
    {
     "name": "stdout",
     "output_type": "stream",
     "text": [
      "[20, 30, 40]\n",
      "<class 'list'>\n",
      "0    20\n",
      "1    30\n",
      "2    40\n",
      "dtype: int64\n",
      "<class 'pandas.core.series.Series'>\n"
     ]
    }
   ],
   "execution_count": 4
  },
  {
   "metadata": {},
   "cell_type": "markdown",
   "source": "Получение основной информации о Series",
   "id": "ddc2b17ee636d9e"
  },
  {
   "metadata": {
    "ExecuteTime": {
     "end_time": "2024-10-03T14:04:17.624305Z",
     "start_time": "2024-10-03T14:04:17.606184Z"
    }
   },
   "cell_type": "code",
   "source": "srs.info()",
   "id": "bbb08b41d33f5043",
   "outputs": [
    {
     "name": "stdout",
     "output_type": "stream",
     "text": [
      "<class 'pandas.core.series.Series'>\n",
      "RangeIndex: 3 entries, 0 to 2\n",
      "Series name: None\n",
      "Non-Null Count  Dtype\n",
      "--------------  -----\n",
      "3 non-null      int64\n",
      "dtypes: int64(1)\n",
      "memory usage: 156.0 bytes\n"
     ]
    }
   ],
   "execution_count": 5
  },
  {
   "metadata": {},
   "cell_type": "markdown",
   "source": "Ручное проставление индексов ",
   "id": "7f619c95bca16c15"
  },
  {
   "metadata": {
    "ExecuteTime": {
     "end_time": "2024-10-03T14:11:50.146051Z",
     "start_time": "2024-10-03T14:11:50.136573Z"
    }
   },
   "cell_type": "code",
   "source": "srs = pd.Series([1, 2, 3, 4, 5], index=['a', 'b', 'c', 'd', 'e'])",
   "id": "5d42d587fbbcb594",
   "outputs": [],
   "execution_count": 7
  },
  {
   "metadata": {},
   "cell_type": "markdown",
   "source": "Ввод srs с клавиатуры",
   "id": "d2c192e25d532bb9"
  },
  {
   "metadata": {
    "ExecuteTime": {
     "end_time": "2024-10-05T12:06:43.777138Z",
     "start_time": "2024-10-05T12:06:39.285620Z"
    }
   },
   "cell_type": "code",
   "source": [
    "s = list(map(int, input().split()))\n",
    "srs = pd.Series(s)\n",
    "srs.info()"
   ],
   "id": "9741787113ed2df3",
   "outputs": [
    {
     "name": "stdout",
     "output_type": "stream",
     "text": [
      "<class 'pandas.core.series.Series'>\n",
      "RangeIndex: 4 entries, 0 to 3\n",
      "Series name: None\n",
      "Non-Null Count  Dtype\n",
      "--------------  -----\n",
      "4 non-null      int64\n",
      "dtypes: int64(1)\n",
      "memory usage: 164.0 bytes\n"
     ]
    }
   ],
   "execution_count": 10
  },
  {
   "metadata": {},
   "cell_type": "markdown",
   "source": "Изменение типа Series",
   "id": "2b5ab83fc316a15f"
  },
  {
   "metadata": {
    "ExecuteTime": {
     "end_time": "2024-10-03T14:37:13.338403Z",
     "start_time": "2024-10-03T14:37:13.322695Z"
    }
   },
   "cell_type": "code",
   "source": [
    "data = ['03-02-2000', '01-06-1976', '22-03-1980', '17-04-2012']\n",
    "srs = pd.Series(data)\n",
    "print(srs.dtype)\n",
    "srs = srs.astype('datetime64[ns]')\n",
    "print(srs.dtype)\n"
   ],
   "id": "5a7694e1d9866330",
   "outputs": [
    {
     "name": "stdout",
     "output_type": "stream",
     "text": [
      "object\n",
      "datetime64[ns]\n"
     ]
    }
   ],
   "execution_count": 22
  },
  {
   "metadata": {},
   "cell_type": "markdown",
   "source": "Удаление строк",
   "id": "58e81b09eafd013"
  },
  {
   "metadata": {
    "ExecuteTime": {
     "end_time": "2024-10-05T12:08:10.625920Z",
     "start_time": "2024-10-05T12:08:10.613356Z"
    }
   },
   "cell_type": "code",
   "source": [
    "srs = pd.Series(np.random.randint(1, 11, 7), copy=True)\n",
    "srs.drop([1,2,3], inplace=True)\n",
    "srs"
   ],
   "id": "4d14e7271d4acebf",
   "outputs": [
    {
     "data": {
      "text/plain": [
       "0     8\n",
       "4    10\n",
       "5     3\n",
       "6     1\n",
       "dtype: int32"
      ]
     },
     "execution_count": 11,
     "metadata": {},
     "output_type": "execute_result"
    }
   ],
   "execution_count": 11
  },
  {
   "metadata": {},
   "cell_type": "markdown",
   "source": "Основные арифметические операции",
   "id": "bdd16011ac65c6b0"
  },
  {
   "metadata": {
    "ExecuteTime": {
     "end_time": "2024-10-05T12:09:47.061609Z",
     "start_time": "2024-10-05T12:09:47.052146Z"
    }
   },
   "cell_type": "code",
   "source": [
    "srs1 = pd.Series(np.random.randint(1, 15, 6), name='A')\n",
    "srs2 = pd.Series(np.random.randint(1, 15, 6), name='B')\n",
    "srs3 = srs1 + srs2\n",
    "#srs4 = srs1.add(srs2)\n",
    "srs5 = srs1 - srs2\n",
    "#srs6 = srs1.sub(srs2)\n",
    "srs7 = srs1 * srs2\n",
    "#srs8 = srs1.mul(srs2)\n",
    "srs9 = srs1 / srs2\n",
    "#srs10 = srs1.div(srs2)"
   ],
   "id": "5509580406fc4d8a",
   "outputs": [],
   "execution_count": 12
  },
  {
   "metadata": {},
   "cell_type": "markdown",
   "source": "Метод abs() возвращает объект Series с абсолютными значениями (взятыми по модулю).",
   "id": "1474c3481420994f"
  },
  {
   "metadata": {
    "ExecuteTime": {
     "end_time": "2024-10-05T12:01:39.599617Z",
     "start_time": "2024-10-05T12:01:39.581066Z"
    }
   },
   "cell_type": "code",
   "source": [
    "srs = pd.Series([-16, -9, 35, 77, -30])\n",
    "srs.abs() "
   ],
   "id": "4ac572b59decf6cb",
   "outputs": [
    {
     "data": {
      "text/plain": [
       "0    16\n",
       "1     9\n",
       "2    35\n",
       "3    77\n",
       "4    30\n",
       "dtype: int64"
      ]
     },
     "execution_count": 7,
     "metadata": {},
     "output_type": "execute_result"
    }
   ],
   "execution_count": 7
  },
  {
   "metadata": {},
   "cell_type": "markdown",
   "source": [
    "Метод round() позволяет округлять значения в структурах Series. Параметру decimals этого метода передается целое\n",
    "число - количество знаков после запятой"
   ],
   "id": "cbed4633d6529112"
  },
  {
   "metadata": {
    "ExecuteTime": {
     "end_time": "2024-10-05T12:04:14.742800Z",
     "start_time": "2024-10-05T12:04:14.732165Z"
    }
   },
   "cell_type": "code",
   "source": [
    "srs = pd.Series([1.2564, 5.0125, 3.65])\n",
    "srs.round(2)"
   ],
   "id": "bbef47882f2ef82b",
   "outputs": [
    {
     "data": {
      "text/plain": [
       "0    1.26\n",
       "1    5.01\n",
       "2    3.65\n",
       "dtype: float64"
      ]
     },
     "execution_count": 9,
     "metadata": {},
     "output_type": "execute_result"
    }
   ],
   "execution_count": 9
  },
  {
   "metadata": {},
   "cell_type": "markdown",
   "source": [
    "# Задание 1: Работа с Series\n",
    "Создание Series:\n",
    "\n",
    "Создай pandas.Series из следующего списка чисел: [-3.4, 5.6, -2.1, 8.9, -7.3, 0].\n",
    "Задай индексы для этой серии: ['a', 'b', 'c', 'd', 'e', 'f'].\n",
    "\n",
    "Используй метод .info() для получения информации о созданной серии (для этого просто распечатай тип и размер).\n",
    "\n",
    "Измени тип данных элементов Series на int.\n",
    "\n",
    "Найди сумму всех элементов Series.\n",
    "Умножь каждый элемент на 2 и выведи результат.\n",
    "\n",
    "Применяй метод abs(), чтобы получить абсолютные значения всех элементов.\n",
    "Округли значения Series до ближайшего целого с помощью метода round().\n",
    "\n",
    "Удали элемент с индексом 'd' из Series и выведи обновленную серию."
   ],
   "id": "aac0d57c00bb76fb"
  },
  {
   "metadata": {
    "ExecuteTime": {
     "end_time": "2024-10-05T12:30:46.194301Z",
     "start_time": "2024-10-05T12:30:46.175549Z"
    }
   },
   "cell_type": "code",
   "source": [
    "srs = pd.Series([-3.4, 5.6, -2.1, 8.9, -7.3, 0], index=['a', 'b', 'c', 'd', 'e', 'f'])\n",
    "srs.info()\n",
    "srs = srs.astype('int')\n",
    "sum_srs = srs.sum()\n",
    "print(\"Сумма:\\n\", sum_srs)\n",
    "srs = srs.mul(2)\n",
    "print(\"Умножение на 2:\\n\", srs)\n",
    "abs_srs = srs.abs()\n",
    "print(\"Абсолютные значения:\\n\", abs_srs)\n",
    "round_srs = srs.round()\n",
    "print(\"Округление:\\n\", round_srs)\n",
    "srs.drop(['d'], inplace=True)\n",
    "print(\"Обновленная серия:\\n\", srs)"
   ],
   "id": "a4f8d373f0baf37",
   "outputs": [
    {
     "name": "stdout",
     "output_type": "stream",
     "text": [
      "<class 'pandas.core.series.Series'>\n",
      "Index: 6 entries, a to f\n",
      "Series name: None\n",
      "Non-Null Count  Dtype  \n",
      "--------------  -----  \n",
      "6 non-null      float64\n",
      "dtypes: float64(1)\n",
      "memory usage: 96.0+ bytes\n",
      "Сумма:\n",
      " 1\n",
      "Умножение на 2:\n",
      " a    -6\n",
      "b    10\n",
      "c    -4\n",
      "d    16\n",
      "e   -14\n",
      "f     0\n",
      "dtype: int64\n",
      "Абсолютные значения:\n",
      " a     6\n",
      "b    10\n",
      "c     4\n",
      "d    16\n",
      "e    14\n",
      "f     0\n",
      "dtype: int64\n",
      "Округление:\n",
      " a    -6\n",
      "b    10\n",
      "c    -4\n",
      "d    16\n",
      "e   -14\n",
      "f     0\n",
      "dtype: int64\n",
      "Обновленная серия:\n",
      " a    -6\n",
      "b    10\n",
      "c    -4\n",
      "e   -14\n",
      "f     0\n",
      "dtype: int64\n"
     ]
    }
   ],
   "execution_count": 24
  },
  {
   "metadata": {},
   "cell_type": "code",
   "outputs": [],
   "execution_count": null,
   "source": "",
   "id": "62ef667075f7d8a6"
  }
 ],
 "metadata": {
  "kernelspec": {
   "display_name": "Python 3",
   "language": "python",
   "name": "python3"
  },
  "language_info": {
   "codemirror_mode": {
    "name": "ipython",
    "version": 2
   },
   "file_extension": ".py",
   "mimetype": "text/x-python",
   "name": "python",
   "nbconvert_exporter": "python",
   "pygments_lexer": "ipython2",
   "version": "2.7.6"
  }
 },
 "nbformat": 4,
 "nbformat_minor": 5
}
