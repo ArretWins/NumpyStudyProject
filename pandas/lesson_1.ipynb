{
 "cells": [
  {
   "cell_type": "code",
   "id": "initial_id",
   "metadata": {
    "collapsed": true,
    "ExecuteTime": {
     "end_time": "2024-10-01T16:01:54.956672Z",
     "start_time": "2024-10-01T16:01:52.660176Z"
    }
   },
   "source": [
    "import numpy as np\n",
    "import pandas as pd\n",
    "import matplotlib as plt"
   ],
   "outputs": [],
   "execution_count": 1
  },
  {
   "metadata": {},
   "cell_type": "markdown",
   "source": "Stiahnite CSV súbor dostupný na https://peter.butka.website.tuke.sk/res/solutions.csv a uložte ho do pracovného adresára. Vytvorte dataframe s názvom dfsolutions, ktorý bude obsahovať tieto stiahnuté dáta",
   "id": "414edd55fb765c6"
  },
  {
   "metadata": {
    "ExecuteTime": {
     "end_time": "2024-10-01T16:48:21.432276Z",
     "start_time": "2024-10-01T16:48:21.255639Z"
    }
   },
   "cell_type": "code",
   "source": "dfsolutions = pd.read_csv('https://peter.butka.website.tuke.sk/res/solutions.csv')",
   "id": "2674f1783aad0094",
   "outputs": [],
   "execution_count": 24
  },
  {
   "metadata": {},
   "cell_type": "markdown",
   "source": "Uložte do premennej *time* hodnoty atribútu time_left z dataframu dfsolutions",
   "id": "c51d7e8cf76c2443"
  },
  {
   "metadata": {
    "ExecuteTime": {
     "end_time": "2024-10-01T16:48:22.594316Z",
     "start_time": "2024-10-01T16:48:22.585179Z"
    }
   },
   "cell_type": "code",
   "source": "time = dfsolutions['time_left']",
   "id": "632037d1df86702a",
   "outputs": [],
   "execution_count": 25
  },
  {
   "metadata": {},
   "cell_type": "markdown",
   "source": "Vypíšte do konzoly iba prvých 10 riadkov dát",
   "id": "d81ea01cb2fb507f"
  },
  {
   "metadata": {
    "ExecuteTime": {
     "end_time": "2024-10-01T16:45:37.009272Z",
     "start_time": "2024-10-01T16:45:36.986310Z"
    }
   },
   "cell_type": "code",
   "source": "time.head(10)",
   "id": "d18b521b6a559b79",
   "outputs": [
    {
     "data": {
      "text/plain": [
       "0    2343.0\n",
       "1    2329.0\n",
       "2    2366.0\n",
       "3    2362.0\n",
       "4    2345.0\n",
       "5    2242.0\n",
       "6    2311.0\n",
       "7    2314.0\n",
       "8    2328.0\n",
       "9    2337.0\n",
       "Name: time_left, dtype: float64"
      ]
     },
     "execution_count": 18,
     "metadata": {},
     "output_type": "execute_result"
    }
   ],
   "execution_count": 18
  },
  {
   "metadata": {},
   "cell_type": "markdown",
   "source": "Vypíšte do konzoly informácie o dátach spolu s dátovým typom každého atribútu a náhľadom jeho hodnôt",
   "id": "59a296d02ae74b3c"
  },
  {
   "metadata": {
    "ExecuteTime": {
     "end_time": "2024-10-01T16:45:40.817269Z",
     "start_time": "2024-10-01T16:45:40.793581Z"
    }
   },
   "cell_type": "code",
   "source": "dfsolutions.info()",
   "id": "596d19e57c0995d1",
   "outputs": [
    {
     "name": "stdout",
     "output_type": "stream",
     "text": [
      "<class 'pandas.core.frame.DataFrame'>\n",
      "RangeIndex: 205 entries, 0 to 204\n",
      "Data columns (total 7 columns):\n",
      " #   Column      Non-Null Count  Dtype  \n",
      "---  ------      --------------  -----  \n",
      " 0   id          205 non-null    int64  \n",
      " 1   problem_id  205 non-null    int64  \n",
      " 2   subject_id  205 non-null    int64  \n",
      " 3   start       205 non-null    int64  \n",
      " 4   stop        199 non-null    float64\n",
      " 5   time_left   199 non-null    float64\n",
      " 6   answer      199 non-null    object \n",
      "dtypes: float64(2), int64(4), object(1)\n",
      "memory usage: 11.3+ KB\n"
     ]
    }
   ],
   "execution_count": 19
  },
  {
   "metadata": {},
   "cell_type": "markdown",
   "source": "Vymažte v dátach všetky záznamy, ktoré obsahujú chýbajúce hodnoty",
   "id": "f4dee75c0c76e9b7"
  },
  {
   "metadata": {
    "ExecuteTime": {
     "end_time": "2024-10-01T16:46:01.842666Z",
     "start_time": "2024-10-01T16:46:01.829511Z"
    }
   },
   "cell_type": "code",
   "source": "dfsolutions = dfsolutions.dropna()",
   "id": "d64694fc1693f6bf",
   "outputs": [],
   "execution_count": 20
  },
  {
   "metadata": {},
   "cell_type": "markdown",
   "source": [
    "Transformujte atribút *subject_id* z dátového typu na vhodný diskrétny typ (integer na \n",
    "factor v R, alebo category v Pythone), skontrolujte aj ostatné astribúty, uvažujte o tom \n",
    "či boli načítané v správnom type"
   ],
   "id": "b4684e154e0dc48"
  },
  {
   "metadata": {
    "ExecuteTime": {
     "end_time": "2024-10-01T16:50:15.345805Z",
     "start_time": "2024-10-01T16:50:15.332476Z"
    }
   },
   "cell_type": "code",
   "source": "dfsolutions['subject_id'] = dfsolutions['subject_id'].astype('category')",
   "id": "7cf339eff1a677f5",
   "outputs": [],
   "execution_count": 27
  },
  {
   "metadata": {
    "ExecuteTime": {
     "end_time": "2024-10-01T16:50:48.066648Z",
     "start_time": "2024-10-01T16:50:48.030304Z"
    }
   },
   "cell_type": "code",
   "source": "dfsolutions.head(10)",
   "id": "1cdfd55d8af7c8f7",
   "outputs": [
    {
     "data": {
      "text/plain": [
       "   id  problem_id subject_id       start          stop  time_left answer\n",
       "0   1         156         29  1304095119  1.304095e+09     2343.0      B\n",
       "1   2         269         25  1304095119  1.304095e+09     2329.0      C\n",
       "2   3          34         22  1304095127  1.304095e+09     2366.0      C\n",
       "3   4          19         23  1304095127  1.304095e+09     2362.0      D\n",
       "4   5         605         26  1304095127  1.304095e+09     2345.0      A\n",
       "5   6         384         27  1304095131  1.304095e+09     2242.0      C\n",
       "6   7         538         28  1304095133  1.304095e+09     2311.0      C\n",
       "7   8         312         24  1304095134  1.304095e+09     2314.0      D\n",
       "8   9         327         22  1304095151  1.304095e+09     2328.0      E\n",
       "9  10         194         23  1304095152  1.304095e+09     2337.0      A"
      ],
      "text/html": [
       "<div>\n",
       "<style scoped>\n",
       "    .dataframe tbody tr th:only-of-type {\n",
       "        vertical-align: middle;\n",
       "    }\n",
       "\n",
       "    .dataframe tbody tr th {\n",
       "        vertical-align: top;\n",
       "    }\n",
       "\n",
       "    .dataframe thead th {\n",
       "        text-align: right;\n",
       "    }\n",
       "</style>\n",
       "<table border=\"1\" class=\"dataframe\">\n",
       "  <thead>\n",
       "    <tr style=\"text-align: right;\">\n",
       "      <th></th>\n",
       "      <th>id</th>\n",
       "      <th>problem_id</th>\n",
       "      <th>subject_id</th>\n",
       "      <th>start</th>\n",
       "      <th>stop</th>\n",
       "      <th>time_left</th>\n",
       "      <th>answer</th>\n",
       "    </tr>\n",
       "  </thead>\n",
       "  <tbody>\n",
       "    <tr>\n",
       "      <th>0</th>\n",
       "      <td>1</td>\n",
       "      <td>156</td>\n",
       "      <td>29</td>\n",
       "      <td>1304095119</td>\n",
       "      <td>1.304095e+09</td>\n",
       "      <td>2343.0</td>\n",
       "      <td>B</td>\n",
       "    </tr>\n",
       "    <tr>\n",
       "      <th>1</th>\n",
       "      <td>2</td>\n",
       "      <td>269</td>\n",
       "      <td>25</td>\n",
       "      <td>1304095119</td>\n",
       "      <td>1.304095e+09</td>\n",
       "      <td>2329.0</td>\n",
       "      <td>C</td>\n",
       "    </tr>\n",
       "    <tr>\n",
       "      <th>2</th>\n",
       "      <td>3</td>\n",
       "      <td>34</td>\n",
       "      <td>22</td>\n",
       "      <td>1304095127</td>\n",
       "      <td>1.304095e+09</td>\n",
       "      <td>2366.0</td>\n",
       "      <td>C</td>\n",
       "    </tr>\n",
       "    <tr>\n",
       "      <th>3</th>\n",
       "      <td>4</td>\n",
       "      <td>19</td>\n",
       "      <td>23</td>\n",
       "      <td>1304095127</td>\n",
       "      <td>1.304095e+09</td>\n",
       "      <td>2362.0</td>\n",
       "      <td>D</td>\n",
       "    </tr>\n",
       "    <tr>\n",
       "      <th>4</th>\n",
       "      <td>5</td>\n",
       "      <td>605</td>\n",
       "      <td>26</td>\n",
       "      <td>1304095127</td>\n",
       "      <td>1.304095e+09</td>\n",
       "      <td>2345.0</td>\n",
       "      <td>A</td>\n",
       "    </tr>\n",
       "    <tr>\n",
       "      <th>5</th>\n",
       "      <td>6</td>\n",
       "      <td>384</td>\n",
       "      <td>27</td>\n",
       "      <td>1304095131</td>\n",
       "      <td>1.304095e+09</td>\n",
       "      <td>2242.0</td>\n",
       "      <td>C</td>\n",
       "    </tr>\n",
       "    <tr>\n",
       "      <th>6</th>\n",
       "      <td>7</td>\n",
       "      <td>538</td>\n",
       "      <td>28</td>\n",
       "      <td>1304095133</td>\n",
       "      <td>1.304095e+09</td>\n",
       "      <td>2311.0</td>\n",
       "      <td>C</td>\n",
       "    </tr>\n",
       "    <tr>\n",
       "      <th>7</th>\n",
       "      <td>8</td>\n",
       "      <td>312</td>\n",
       "      <td>24</td>\n",
       "      <td>1304095134</td>\n",
       "      <td>1.304095e+09</td>\n",
       "      <td>2314.0</td>\n",
       "      <td>D</td>\n",
       "    </tr>\n",
       "    <tr>\n",
       "      <th>8</th>\n",
       "      <td>9</td>\n",
       "      <td>327</td>\n",
       "      <td>22</td>\n",
       "      <td>1304095151</td>\n",
       "      <td>1.304095e+09</td>\n",
       "      <td>2328.0</td>\n",
       "      <td>E</td>\n",
       "    </tr>\n",
       "    <tr>\n",
       "      <th>9</th>\n",
       "      <td>10</td>\n",
       "      <td>194</td>\n",
       "      <td>23</td>\n",
       "      <td>1304095152</td>\n",
       "      <td>1.304095e+09</td>\n",
       "      <td>2337.0</td>\n",
       "      <td>A</td>\n",
       "    </tr>\n",
       "  </tbody>\n",
       "</table>\n",
       "</div>"
      ]
     },
     "execution_count": 30,
     "metadata": {},
     "output_type": "execute_result"
    }
   ],
   "execution_count": 30
  },
  {
   "metadata": {},
   "cell_type": "code",
   "outputs": [],
   "execution_count": null,
   "source": "",
   "id": "674de4a5278d8804"
  }
 ],
 "metadata": {
  "kernelspec": {
   "display_name": "Python 3",
   "language": "python",
   "name": "python3"
  },
  "language_info": {
   "codemirror_mode": {
    "name": "ipython",
    "version": 2
   },
   "file_extension": ".py",
   "mimetype": "text/x-python",
   "name": "python",
   "nbconvert_exporter": "python",
   "pygments_lexer": "ipython2",
   "version": "2.7.6"
  }
 },
 "nbformat": 4,
 "nbformat_minor": 5
}
