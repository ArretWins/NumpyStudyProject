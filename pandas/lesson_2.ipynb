{
 "cells": [
  {
   "cell_type": "code",
   "id": "initial_id",
   "metadata": {
    "collapsed": true,
    "ExecuteTime": {
     "end_time": "2024-10-05T12:47:30.062509Z",
     "start_time": "2024-10-05T12:47:30.057022Z"
    }
   },
   "source": [
    "import pandas as pd\n",
    "import numpy as np"
   ],
   "outputs": [],
   "execution_count": 11
  },
  {
   "metadata": {},
   "cell_type": "markdown",
   "source": "Создание DataFrame из словаря\n",
   "id": "682f3cdbd5fbe9f2"
  },
  {
   "metadata": {
    "ExecuteTime": {
     "end_time": "2024-10-05T12:40:33.764539Z",
     "start_time": "2024-10-05T12:40:33.743862Z"
    }
   },
   "cell_type": "code",
   "source": [
    "dic = {'Количество': [40, 21, 54], 'Цена': [2100, 510.7, 2541]}\n",
    "df = pd.DataFrame(data=dic)\n",
    "display(df)"
   ],
   "id": "f76a5d8cc35a00bd",
   "outputs": [
    {
     "data": {
      "text/plain": [
       "   Количество    Цена\n",
       "0          40  2100.0\n",
       "1          21   510.7\n",
       "2          54  2541.0"
      ],
      "text/html": [
       "<div>\n",
       "<style scoped>\n",
       "    .dataframe tbody tr th:only-of-type {\n",
       "        vertical-align: middle;\n",
       "    }\n",
       "\n",
       "    .dataframe tbody tr th {\n",
       "        vertical-align: top;\n",
       "    }\n",
       "\n",
       "    .dataframe thead th {\n",
       "        text-align: right;\n",
       "    }\n",
       "</style>\n",
       "<table border=\"1\" class=\"dataframe\">\n",
       "  <thead>\n",
       "    <tr style=\"text-align: right;\">\n",
       "      <th></th>\n",
       "      <th>Количество</th>\n",
       "      <th>Цена</th>\n",
       "    </tr>\n",
       "  </thead>\n",
       "  <tbody>\n",
       "    <tr>\n",
       "      <th>0</th>\n",
       "      <td>40</td>\n",
       "      <td>2100.0</td>\n",
       "    </tr>\n",
       "    <tr>\n",
       "      <th>1</th>\n",
       "      <td>21</td>\n",
       "      <td>510.7</td>\n",
       "    </tr>\n",
       "    <tr>\n",
       "      <th>2</th>\n",
       "      <td>54</td>\n",
       "      <td>2541.0</td>\n",
       "    </tr>\n",
       "  </tbody>\n",
       "</table>\n",
       "</div>"
      ]
     },
     "metadata": {},
     "output_type": "display_data"
    }
   ],
   "execution_count": 4
  },
  {
   "metadata": {},
   "cell_type": "markdown",
   "source": "Создание DataFrame из списка словарей",
   "id": "134c6207aff51647"
  },
  {
   "metadata": {
    "ExecuteTime": {
     "end_time": "2024-10-05T12:42:15.992560Z",
     "start_time": "2024-10-05T12:42:15.977333Z"
    }
   },
   "cell_type": "code",
   "source": [
    "lst = [{'Количество': 115, 'Цена': 21010},\n",
    "       {'Количество': 210, 'Цена': 14150.5},\n",
    "       {'Количество': 501, 'Цена': 181010}]\n",
    "df = pd.DataFrame(lst)\n",
    "display(df)"
   ],
   "id": "e97e5971ec357f9a",
   "outputs": [
    {
     "data": {
      "text/plain": [
       "   Количество      Цена\n",
       "0         115   21010.0\n",
       "1         210   14150.5\n",
       "2         501  181010.0"
      ],
      "text/html": [
       "<div>\n",
       "<style scoped>\n",
       "    .dataframe tbody tr th:only-of-type {\n",
       "        vertical-align: middle;\n",
       "    }\n",
       "\n",
       "    .dataframe tbody tr th {\n",
       "        vertical-align: top;\n",
       "    }\n",
       "\n",
       "    .dataframe thead th {\n",
       "        text-align: right;\n",
       "    }\n",
       "</style>\n",
       "<table border=\"1\" class=\"dataframe\">\n",
       "  <thead>\n",
       "    <tr style=\"text-align: right;\">\n",
       "      <th></th>\n",
       "      <th>Количество</th>\n",
       "      <th>Цена</th>\n",
       "    </tr>\n",
       "  </thead>\n",
       "  <tbody>\n",
       "    <tr>\n",
       "      <th>0</th>\n",
       "      <td>115</td>\n",
       "      <td>21010.0</td>\n",
       "    </tr>\n",
       "    <tr>\n",
       "      <th>1</th>\n",
       "      <td>210</td>\n",
       "      <td>14150.5</td>\n",
       "    </tr>\n",
       "    <tr>\n",
       "      <th>2</th>\n",
       "      <td>501</td>\n",
       "      <td>181010.0</td>\n",
       "    </tr>\n",
       "  </tbody>\n",
       "</table>\n",
       "</div>"
      ]
     },
     "metadata": {},
     "output_type": "display_data"
    }
   ],
   "execution_count": 5
  },
  {
   "metadata": {},
   "cell_type": "markdown",
   "source": "Создание DataFrame из списка списков\n",
   "id": "e4f19981e5aebd4b"
  },
  {
   "metadata": {
    "ExecuteTime": {
     "end_time": "2024-10-05T12:43:57.493928Z",
     "start_time": "2024-10-05T12:43:57.476504Z"
    }
   },
   "cell_type": "code",
   "source": [
    "lst = [[115, 20201],\n",
    "       [210, 4502.15],\n",
    "       [21, 54.15],\n",
    "       [150, 211800]]\n",
    "df = pd.DataFrame(lst, columns=['Количество', 'Цена'])\n",
    "display(df)"
   ],
   "id": "a5242239011e9348",
   "outputs": [
    {
     "data": {
      "text/plain": [
       "   Количество       Цена\n",
       "0         115   20201.00\n",
       "1         210    4502.15\n",
       "2          21      54.15\n",
       "3         150  211800.00"
      ],
      "text/html": [
       "<div>\n",
       "<style scoped>\n",
       "    .dataframe tbody tr th:only-of-type {\n",
       "        vertical-align: middle;\n",
       "    }\n",
       "\n",
       "    .dataframe tbody tr th {\n",
       "        vertical-align: top;\n",
       "    }\n",
       "\n",
       "    .dataframe thead th {\n",
       "        text-align: right;\n",
       "    }\n",
       "</style>\n",
       "<table border=\"1\" class=\"dataframe\">\n",
       "  <thead>\n",
       "    <tr style=\"text-align: right;\">\n",
       "      <th></th>\n",
       "      <th>Количество</th>\n",
       "      <th>Цена</th>\n",
       "    </tr>\n",
       "  </thead>\n",
       "  <tbody>\n",
       "    <tr>\n",
       "      <th>0</th>\n",
       "      <td>115</td>\n",
       "      <td>20201.00</td>\n",
       "    </tr>\n",
       "    <tr>\n",
       "      <th>1</th>\n",
       "      <td>210</td>\n",
       "      <td>4502.15</td>\n",
       "    </tr>\n",
       "    <tr>\n",
       "      <th>2</th>\n",
       "      <td>21</td>\n",
       "      <td>54.15</td>\n",
       "    </tr>\n",
       "    <tr>\n",
       "      <th>3</th>\n",
       "      <td>150</td>\n",
       "      <td>211800.00</td>\n",
       "    </tr>\n",
       "  </tbody>\n",
       "</table>\n",
       "</div>"
      ]
     },
     "metadata": {},
     "output_type": "display_data"
    }
   ],
   "execution_count": 7
  },
  {
   "metadata": {
    "ExecuteTime": {
     "end_time": "2024-10-05T12:46:09.304422Z",
     "start_time": "2024-10-05T12:46:09.289099Z"
    }
   },
   "cell_type": "code",
   "source": [
    "srs1 = pd.Series([1, 2, 3, 4, 5], name='Количество')\n",
    "srs2 = pd.Series([10, 20, 30, 40, 50], name='Цена')\n",
    "df = pd.DataFrame([srs1, srs2])\n",
    "df = df.T\n",
    "display(df)"
   ],
   "id": "8e2e2c1eb8d0b192",
   "outputs": [
    {
     "data": {
      "text/plain": [
       "   Количество  Цена\n",
       "0           1    10\n",
       "1           2    20\n",
       "2           3    30\n",
       "3           4    40\n",
       "4           5    50"
      ],
      "text/html": [
       "<div>\n",
       "<style scoped>\n",
       "    .dataframe tbody tr th:only-of-type {\n",
       "        vertical-align: middle;\n",
       "    }\n",
       "\n",
       "    .dataframe tbody tr th {\n",
       "        vertical-align: top;\n",
       "    }\n",
       "\n",
       "    .dataframe thead th {\n",
       "        text-align: right;\n",
       "    }\n",
       "</style>\n",
       "<table border=\"1\" class=\"dataframe\">\n",
       "  <thead>\n",
       "    <tr style=\"text-align: right;\">\n",
       "      <th></th>\n",
       "      <th>Количество</th>\n",
       "      <th>Цена</th>\n",
       "    </tr>\n",
       "  </thead>\n",
       "  <tbody>\n",
       "    <tr>\n",
       "      <th>0</th>\n",
       "      <td>1</td>\n",
       "      <td>10</td>\n",
       "    </tr>\n",
       "    <tr>\n",
       "      <th>1</th>\n",
       "      <td>2</td>\n",
       "      <td>20</td>\n",
       "    </tr>\n",
       "    <tr>\n",
       "      <th>2</th>\n",
       "      <td>3</td>\n",
       "      <td>30</td>\n",
       "    </tr>\n",
       "    <tr>\n",
       "      <th>3</th>\n",
       "      <td>4</td>\n",
       "      <td>40</td>\n",
       "    </tr>\n",
       "    <tr>\n",
       "      <th>4</th>\n",
       "      <td>5</td>\n",
       "      <td>50</td>\n",
       "    </tr>\n",
       "  </tbody>\n",
       "</table>\n",
       "</div>"
      ]
     },
     "metadata": {},
     "output_type": "display_data"
    }
   ],
   "execution_count": 9
  },
  {
   "metadata": {},
   "cell_type": "markdown",
   "source": "Создание объекта DataFrame из массива NumPy",
   "id": "3bc88386ec539d16"
  },
  {
   "metadata": {
    "ExecuteTime": {
     "end_time": "2024-10-05T12:48:37.374997Z",
     "start_time": "2024-10-05T12:48:37.362880Z"
    }
   },
   "cell_type": "code",
   "source": [
    "np_obj = np.random.randint(1, 1200, (3, 2))\n",
    "df = pd.DataFrame(np_obj, columns=['Количество', 'Цена'])\n",
    "display(df)"
   ],
   "id": "e3dd5c5ae14944d3",
   "outputs": [
    {
     "data": {
      "text/plain": [
       "   Количество  Цена\n",
       "0         421   905\n",
       "1         631  1179\n",
       "2         780   295"
      ],
      "text/html": [
       "<div>\n",
       "<style scoped>\n",
       "    .dataframe tbody tr th:only-of-type {\n",
       "        vertical-align: middle;\n",
       "    }\n",
       "\n",
       "    .dataframe tbody tr th {\n",
       "        vertical-align: top;\n",
       "    }\n",
       "\n",
       "    .dataframe thead th {\n",
       "        text-align: right;\n",
       "    }\n",
       "</style>\n",
       "<table border=\"1\" class=\"dataframe\">\n",
       "  <thead>\n",
       "    <tr style=\"text-align: right;\">\n",
       "      <th></th>\n",
       "      <th>Количество</th>\n",
       "      <th>Цена</th>\n",
       "    </tr>\n",
       "  </thead>\n",
       "  <tbody>\n",
       "    <tr>\n",
       "      <th>0</th>\n",
       "      <td>421</td>\n",
       "      <td>905</td>\n",
       "    </tr>\n",
       "    <tr>\n",
       "      <th>1</th>\n",
       "      <td>631</td>\n",
       "      <td>1179</td>\n",
       "    </tr>\n",
       "    <tr>\n",
       "      <th>2</th>\n",
       "      <td>780</td>\n",
       "      <td>295</td>\n",
       "    </tr>\n",
       "  </tbody>\n",
       "</table>\n",
       "</div>"
      ]
     },
     "metadata": {},
     "output_type": "display_data"
    }
   ],
   "execution_count": 15
  },
  {
   "metadata": {},
   "cell_type": "code",
   "outputs": [],
   "execution_count": null,
   "source": "",
   "id": "8c2b96367183a786"
  }
 ],
 "metadata": {
  "kernelspec": {
   "display_name": "Python 3",
   "language": "python",
   "name": "python3"
  },
  "language_info": {
   "codemirror_mode": {
    "name": "ipython",
    "version": 2
   },
   "file_extension": ".py",
   "mimetype": "text/x-python",
   "name": "python",
   "nbconvert_exporter": "python",
   "pygments_lexer": "ipython2",
   "version": "2.7.6"
  }
 },
 "nbformat": 4,
 "nbformat_minor": 5
}
