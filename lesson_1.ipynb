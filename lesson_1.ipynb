{
 "cells": [
  {
   "metadata": {
    "ExecuteTime": {
     "end_time": "2024-09-24T16:48:44.829426Z",
     "start_time": "2024-09-24T16:48:44.669977Z"
    }
   },
   "cell_type": "code",
   "source": "import numpy as np",
   "id": "fbc121e30a2defb3",
   "outputs": [],
   "execution_count": 2
  },
  {
   "metadata": {
    "ExecuteTime": {
     "end_time": "2024-09-24T17:42:38.413624Z",
     "start_time": "2024-09-24T17:42:38.403495Z"
    }
   },
   "cell_type": "code",
   "source": "np.array([1, 2, 3, 4, 5])",
   "id": "1768916641609d2d",
   "outputs": [
    {
     "data": {
      "text/plain": [
       "array([1, 2, 3, 4, 5])"
      ]
     },
     "execution_count": 20,
     "metadata": {},
     "output_type": "execute_result"
    }
   ],
   "execution_count": 20
  },
  {
   "metadata": {
    "ExecuteTime": {
     "end_time": "2024-09-24T18:35:30.031017Z",
     "start_time": "2024-09-24T18:35:30.017494Z"
    }
   },
   "cell_type": "code",
   "source": [
    "arr = np.array([[1, 2, 3],[4, 5, 6], [7, 8, 9]])\n",
    "arr"
   ],
   "id": "4d62005e7ea3d32c",
   "outputs": [
    {
     "data": {
      "text/plain": [
       "array([[1, 2, 3],\n",
       "       [4, 5, 6],\n",
       "       [7, 8, 9]])"
      ]
     },
     "execution_count": 43,
     "metadata": {},
     "output_type": "execute_result"
    }
   ],
   "execution_count": 43
  },
  {
   "metadata": {},
   "cell_type": "markdown",
   "source": [
    "В программе создан массив и записан в переменную arr. \n",
    "Определите кол-во осей, кол-во элементов, размер массива и тип данных в массиве.\n",
    "Результаты запишите в переменные arr_n, arr_sz, arr_sh, arr_dt соответственно."
   ],
   "id": "9e381e3a781438c3"
  },
  {
   "metadata": {
    "ExecuteTime": {
     "end_time": "2024-09-24T18:54:08.211276Z",
     "start_time": "2024-09-24T18:54:08.201943Z"
    }
   },
   "cell_type": "code",
   "source": [
    "arr_n = arr.ndim\n",
    "arr_sz = arr.size\n",
    "arr_sh = arr.shape\n",
    "arr_dt = arr.dtype"
   ],
   "id": "d1cd33f5df1ea056",
   "outputs": [],
   "execution_count": 54
  },
  {
   "metadata": {},
   "cell_type": "markdown",
   "source": [
    "Создайте массив размера (3, 3, 2) с неопределенными значениями.\n",
    "Результат запишите в переменную arr.\n",
    "Примечание: импортировать библиотеку Numpy не нужно, она уже импортирована."
   ],
   "id": "267a23983bee179"
  },
  {
   "metadata": {
    "ExecuteTime": {
     "end_time": "2024-09-24T18:44:16.968500Z",
     "start_time": "2024-09-24T18:44:16.960520Z"
    }
   },
   "cell_type": "code",
   "source": "arr = np.empty([3, 3, 2])",
   "id": "3cf3c4809f4fcd57",
   "outputs": [],
   "execution_count": 45
  },
  {
   "metadata": {},
   "cell_type": "markdown",
   "source": [
    "Создайте два массива размером (5, 2, 4). Первый должен состоять из всех единиц, а второй из всех нулей.\n",
    "Результат запишите в переменные arr_ns и arr_zs соответственно.\n",
    "Примечание: импортировать библиотеку Numpy не нужно, она уже импортирована."
   ],
   "id": "6beef2d611e76f4d"
  },
  {
   "metadata": {
    "ExecuteTime": {
     "end_time": "2024-09-24T18:44:17.968041Z",
     "start_time": "2024-09-24T18:44:17.958583Z"
    }
   },
   "cell_type": "code",
   "source": [
    "arr_ns = np.ones([5, 2, 4])\n",
    "arr_zs = np.zeros([5, 2, 4])"
   ],
   "id": "405a0e88b3f2c436",
   "outputs": [],
   "execution_count": 46
  },
  {
   "metadata": {},
   "cell_type": "markdown",
   "source": [
    "В программе создан массив и записан в переменную arr. \n",
    "Создайте три массива такого же размера как и arr. Первый должен состоять из всех нулей, второй из всех единиц, а третий из всех семерок.\n",
    "Результаты запишите в переменные arr_zs, arr_ns, arr_fl соответственно."
   ],
   "id": "1a09e9827fb74d9c"
  },
  {
   "metadata": {
    "ExecuteTime": {
     "end_time": "2024-09-24T18:51:40.722205Z",
     "start_time": "2024-09-24T18:51:40.712426Z"
    }
   },
   "cell_type": "code",
   "source": [
    "arr_zs = np.zeros_like(arr)\n",
    "arr_ns = np.ones_like(arr)\n",
    "arr_fl = np.full_like(arr, 7)"
   ],
   "id": "9bd3c1e478efe770",
   "outputs": [],
   "execution_count": 52
  },
  {
   "metadata": {},
   "cell_type": "markdown",
   "source": [
    "Создайте одномерный массив содержащий числа от 100 до 150, 150 не включено, взятые с шагом 2,5. \n",
    "Результат запишите в переменную arr_rg."
   ],
   "id": "51be068c6675077e"
  },
  {
   "metadata": {
    "ExecuteTime": {
     "end_time": "2024-09-24T18:52:58.704066Z",
     "start_time": "2024-09-24T18:52:58.693164Z"
    }
   },
   "cell_type": "code",
   "source": "arr_rg = np.arange(100, 150, 2.5)",
   "id": "4f2c8a6c3f9beaea",
   "outputs": [],
   "execution_count": 53
  },
  {
   "metadata": {},
   "cell_type": "markdown",
   "source": [
    "На основе данного списка [[1, 2, 3], [2, 3, 4], [3, 4, 5]] получите матрицу.\n",
    "Результат запишите в переменную arr_mt."
   ],
   "id": "5720dfc91fe36f48"
  },
  {
   "metadata": {
    "ExecuteTime": {
     "end_time": "2024-09-24T18:57:25.735092Z",
     "start_time": "2024-09-24T18:57:25.723757Z"
    }
   },
   "cell_type": "code",
   "source": "arr_mt = np.matrix([[1, 2, 3], [2, 3, 4], [3, 4, 5]])",
   "id": "21ec867a28188f45",
   "outputs": [],
   "execution_count": 57
  },
  {
   "metadata": {},
   "cell_type": "markdown",
   "source": [
    "Получите диагональную матрицу на главной диагонали которой стоят значения списка [5, 4, 3, 2, 1].\n",
    "Результат запишите в переменную arr_diag."
   ],
   "id": "3f23385c30629278"
  },
  {
   "metadata": {
    "ExecuteTime": {
     "end_time": "2024-09-24T18:58:29.451501Z",
     "start_time": "2024-09-24T18:58:29.438727Z"
    }
   },
   "cell_type": "code",
   "source": "arr_diag = np.diag([5, 4, 3, 2, 1])",
   "id": "8aaef133c97fa7df",
   "outputs": [],
   "execution_count": 59
  },
  {
   "metadata": {},
   "cell_type": "markdown",
   "source": [
    "Получите нижнюю треугольную матрицу размером (4, 3), состоящую из единиц.\n",
    "Результат запишите в переменную arr_tr."
   ],
   "id": "7b143a14d17165cf"
  },
  {
   "metadata": {
    "ExecuteTime": {
     "end_time": "2024-09-24T19:02:52.166340Z",
     "start_time": "2024-09-24T19:02:52.158261Z"
    }
   },
   "cell_type": "code",
   "source": "arr_tr = np.tri(4, 3)",
   "id": "b0b962b943c8c39d",
   "outputs": [],
   "execution_count": 65
  },
  {
   "metadata": {},
   "cell_type": "markdown",
   "source": [
    "В программе создан двумерный массив и записан в переменную arr. Получите верхнюю треугольную матрицу из массива arr. \n",
    "Результат запишите в переменную arr_tr."
   ],
   "id": "13531ded21ea573d"
  },
  {
   "metadata": {
    "ExecuteTime": {
     "end_time": "2024-09-24T19:04:31.786802Z",
     "start_time": "2024-09-24T19:04:31.778878Z"
    }
   },
   "cell_type": "code",
   "source": "arr_tr = np.triu(arr)",
   "id": "2ed90a721e7f5b14",
   "outputs": [],
   "execution_count": 66
  }
 ],
 "metadata": {
  "kernelspec": {
   "display_name": "Python 3",
   "language": "python",
   "name": "python3"
  },
  "language_info": {
   "codemirror_mode": {
    "name": "ipython",
    "version": 2
   },
   "file_extension": ".py",
   "mimetype": "text/x-python",
   "name": "python",
   "nbconvert_exporter": "python",
   "pygments_lexer": "ipython2",
   "version": "2.7.6"
  }
 },
 "nbformat": 4,
 "nbformat_minor": 5
}
