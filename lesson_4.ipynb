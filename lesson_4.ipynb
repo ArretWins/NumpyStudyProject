{
 "cells": [
  {
   "metadata": {},
   "cell_type": "markdown",
   "source": "**Срезы в массивах**",
   "id": "f0839e1bb629cb66"
  },
  {
   "cell_type": "code",
   "id": "initial_id",
   "metadata": {
    "collapsed": true,
    "ExecuteTime": {
     "end_time": "2024-09-28T16:10:07.163540Z",
     "start_time": "2024-09-28T16:10:07.016834Z"
    }
   },
   "source": "import numpy as np",
   "outputs": [],
   "execution_count": 2
  },
  {
   "metadata": {},
   "cell_type": "markdown",
   "source": "Создай массив из чисел от 1 до 20. Используя срезы, извлеки подмассив с элементами с индексами от 5 до 10 (включительно).",
   "id": "15ec3f65f900192c"
  },
  {
   "metadata": {
    "ExecuteTime": {
     "end_time": "2024-09-28T16:10:32.946875Z",
     "start_time": "2024-09-28T16:10:32.941218Z"
    }
   },
   "cell_type": "code",
   "source": [
    "np_array = np.arange(1, 21)\n",
    "new_array = np_array[4:10]"
   ],
   "id": "ccea20d6ac7b6777",
   "outputs": [],
   "execution_count": 5
  },
  {
   "metadata": {},
   "cell_type": "markdown",
   "source": "Создай массив размером 4x4 с числами от 1 до 16. Используя срезы, извлеки только третью строку (индекс 2).",
   "id": "f212bc93465c6659"
  },
  {
   "metadata": {
    "ExecuteTime": {
     "end_time": "2024-09-28T16:17:30.232449Z",
     "start_time": "2024-09-28T16:17:30.226624Z"
    }
   },
   "cell_type": "code",
   "source": [
    "np_array = np.array([[1, 2, 3, 4], [5, 6, 7, 8], [9, 10, 11, 12], [13, 14, 15, 16]])\n",
    "new_array = np_array[2, :]"
   ],
   "id": "f7a88ba7cd0b6ac9",
   "outputs": [],
   "execution_count": 17
  },
  {
   "metadata": {},
   "cell_type": "markdown",
   "source": "Используя тот же массив размером 4x4, извлеки первый и третий столбцы.",
   "id": "30643c088012d691"
  },
  {
   "metadata": {
    "ExecuteTime": {
     "end_time": "2024-09-28T16:18:13.388972Z",
     "start_time": "2024-09-28T16:18:13.384610Z"
    }
   },
   "cell_type": "code",
   "source": "new_array = np_array[:,::2]",
   "id": "ce12c9dde558e900",
   "outputs": [],
   "execution_count": 22
  },
  {
   "metadata": {},
   "cell_type": "markdown",
   "source": "Создай массив размером 5x5 с числами от 1 до 25. Используя срезы, извлеки центральную часть массива размером 3x3.",
   "id": "89c4d1a53360bba9"
  },
  {
   "metadata": {
    "ExecuteTime": {
     "end_time": "2024-09-28T16:22:20.269916Z",
     "start_time": "2024-09-28T16:22:20.263518Z"
    }
   },
   "cell_type": "code",
   "source": [
    "np_array = np.arange(1, 26).reshape(5,5)\n",
    "new_array = np_array[1:4,1:4]"
   ],
   "id": "61ee25680a20b32a",
   "outputs": [],
   "execution_count": 29
  },
  {
   "metadata": {},
   "cell_type": "markdown",
   "source": "Создай одномерный массив из чисел от 10 до 100 с шагом 10. Используя срезы, извлеки каждый второй элемент массива (например, [10, 30, 50, ...]).",
   "id": "777dc078d361741c"
  },
  {
   "metadata": {
    "ExecuteTime": {
     "end_time": "2024-09-28T16:24:13.195914Z",
     "start_time": "2024-09-28T16:24:13.189691Z"
    }
   },
   "cell_type": "code",
   "source": [
    "np_array = np.arange(10, 101, 10)\n",
    "new_array = np_array[::2]"
   ],
   "id": "b67b08d120be82c1",
   "outputs": [],
   "execution_count": 32
  }
 ],
 "metadata": {
  "kernelspec": {
   "display_name": "Python 3",
   "language": "python",
   "name": "python3"
  },
  "language_info": {
   "codemirror_mode": {
    "name": "ipython",
    "version": 2
   },
   "file_extension": ".py",
   "mimetype": "text/x-python",
   "name": "python",
   "nbconvert_exporter": "python",
   "pygments_lexer": "ipython2",
   "version": "2.7.6"
  }
 },
 "nbformat": 4,
 "nbformat_minor": 5
}
