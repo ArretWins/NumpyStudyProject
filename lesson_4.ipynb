{
 "cells": [
  {
   "metadata": {},
   "cell_type": "markdown",
   "source": "**Срезы в массивах**",
   "id": "f0839e1bb629cb66"
  },
  {
   "cell_type": "code",
   "id": "initial_id",
   "metadata": {
    "collapsed": true,
    "ExecuteTime": {
     "end_time": "2024-09-29T10:40:51.008836Z",
     "start_time": "2024-09-29T10:40:50.741491Z"
    }
   },
   "source": "import numpy as np",
   "outputs": [],
   "execution_count": 2
  },
  {
   "metadata": {},
   "cell_type": "markdown",
   "source": "Создай массив из чисел от 1 до 20. Используя срезы, извлеки подмассив с элементами с индексами от 5 до 10 (включительно).",
   "id": "15ec3f65f900192c"
  },
  {
   "metadata": {
    "ExecuteTime": {
     "end_time": "2024-09-28T16:10:32.946875Z",
     "start_time": "2024-09-28T16:10:32.941218Z"
    }
   },
   "cell_type": "code",
   "source": [
    "np_array = np.arange(1, 21)\n",
    "new_array = np_array[4:10]"
   ],
   "id": "ccea20d6ac7b6777",
   "outputs": [],
   "execution_count": 5
  },
  {
   "metadata": {},
   "cell_type": "markdown",
   "source": "Создай массив размером 4x4 с числами от 1 до 16. Используя срезы, извлеки только третью строку (индекс 2).",
   "id": "f212bc93465c6659"
  },
  {
   "metadata": {
    "ExecuteTime": {
     "end_time": "2024-09-28T16:17:30.232449Z",
     "start_time": "2024-09-28T16:17:30.226624Z"
    }
   },
   "cell_type": "code",
   "source": [
    "np_array = np.array([[1, 2, 3, 4], [5, 6, 7, 8], [9, 10, 11, 12], [13, 14, 15, 16]])\n",
    "new_array = np_array[2, :]"
   ],
   "id": "f7a88ba7cd0b6ac9",
   "outputs": [],
   "execution_count": 17
  },
  {
   "metadata": {},
   "cell_type": "markdown",
   "source": "Используя тот же массив размером 4x4, извлеки первый и третий столбцы.",
   "id": "30643c088012d691"
  },
  {
   "metadata": {
    "ExecuteTime": {
     "end_time": "2024-09-28T16:18:13.388972Z",
     "start_time": "2024-09-28T16:18:13.384610Z"
    }
   },
   "cell_type": "code",
   "source": "new_array = np_array[:,::2]",
   "id": "ce12c9dde558e900",
   "outputs": [],
   "execution_count": 22
  },
  {
   "metadata": {},
   "cell_type": "markdown",
   "source": "Создай массив размером 5x5 с числами от 1 до 25. Используя срезы, извлеки центральную часть массива размером 3x3.",
   "id": "89c4d1a53360bba9"
  },
  {
   "metadata": {
    "ExecuteTime": {
     "end_time": "2024-09-28T16:22:20.269916Z",
     "start_time": "2024-09-28T16:22:20.263518Z"
    }
   },
   "cell_type": "code",
   "source": [
    "np_array = np.arange(1, 26).reshape(5,5)\n",
    "new_array = np_array[1:4,1:4]"
   ],
   "id": "61ee25680a20b32a",
   "outputs": [],
   "execution_count": 29
  },
  {
   "metadata": {},
   "cell_type": "markdown",
   "source": "Создай одномерный массив из чисел от 10 до 100 с шагом 10. Используя срезы, извлеки каждый второй элемент массива (например, [10, 30, 50, ...]).",
   "id": "777dc078d361741c"
  },
  {
   "metadata": {
    "ExecuteTime": {
     "end_time": "2024-09-28T16:24:13.195914Z",
     "start_time": "2024-09-28T16:24:13.189691Z"
    }
   },
   "cell_type": "code",
   "source": [
    "np_array = np.arange(10, 101, 10)\n",
    "new_array = np_array[::2]"
   ],
   "id": "b67b08d120be82c1",
   "outputs": [],
   "execution_count": 32
  },
  {
   "metadata": {},
   "cell_type": "markdown",
   "source": "**Списочная индексация**",
   "id": "517958fc6f06b415"
  },
  {
   "metadata": {},
   "cell_type": "markdown",
   "source": "Создай массив из чисел от 10 до 100 с шагом 10. Используя списочную индексацию, извлеки элементы с индексами [0, 3, 5, 7].",
   "id": "97e63f945273b6ef"
  },
  {
   "metadata": {
    "ExecuteTime": {
     "end_time": "2024-09-29T10:41:13.345455Z",
     "start_time": "2024-09-29T10:41:13.333530Z"
    }
   },
   "cell_type": "code",
   "source": [
    "np_array = np.arange(10, 101, 10)\n",
    "new_array = np_array[[0,3,5,7]]"
   ],
   "id": "5accf5fc93f02284",
   "outputs": [],
   "execution_count": 4
  },
  {
   "metadata": {},
   "cell_type": "markdown",
   "source": "Создай массив из чисел от 1 до 10. Используя списочную индексацию, замени элементы с индексами [2, 4, 6] на значение 99.",
   "id": "697b81d73d3aff0a"
  },
  {
   "metadata": {
    "ExecuteTime": {
     "end_time": "2024-09-29T10:46:59.627215Z",
     "start_time": "2024-09-29T10:46:59.612443Z"
    }
   },
   "cell_type": "code",
   "source": [
    "np_array = np.arange(1, 11)\n",
    "np_array[[2, 4, 6]] = 99"
   ],
   "id": "fb96b0fab9c1eeaf",
   "outputs": [],
   "execution_count": 13
  },
  {
   "metadata": {},
   "cell_type": "markdown",
   "source": "Создай двумерный массив размером 4x4 с числами от 1 до 16. Используя списочную индексацию, извлеки элементы с позиций [0, 1], [2, 3], [3, 0].",
   "id": "c0249ad86c28cf57"
  },
  {
   "metadata": {
    "ExecuteTime": {
     "end_time": "2024-09-29T10:57:32.404403Z",
     "start_time": "2024-09-29T10:57:32.397323Z"
    }
   },
   "cell_type": "code",
   "source": [
    "np_array = np.arange(1, 17).reshape(4,4)\n",
    "new_array = np_array[[0, 2, 3],[1, 3, 0]]"
   ],
   "id": "97dc21ee0ef0662c",
   "outputs": [],
   "execution_count": 39
  },
  {
   "metadata": {},
   "cell_type": "markdown",
   "source": "Создай массив размером 5x5 с числами от 1 до 25. Используя списочную индексацию, извлеки столбцы с индексами [0, 2, 4].",
   "id": "6da9e508440f33fe"
  },
  {
   "metadata": {
    "ExecuteTime": {
     "end_time": "2024-09-29T11:01:53.899347Z",
     "start_time": "2024-09-29T11:01:53.888872Z"
    }
   },
   "cell_type": "code",
   "source": [
    "np_array = np.arange(1, 26).reshape(5,5)\n",
    "new_array = np_array[:,[0, 2, 4]]"
   ],
   "id": "eec2da6311409532",
   "outputs": [],
   "execution_count": 52
  },
  {
   "metadata": {},
   "cell_type": "markdown",
   "source": "Создай массив из случайных целых чисел от 0 до 100 размером 1x10. Найди индексы всех элементов, которые больше 50, и замени их на -1.",
   "id": "19e092d5db262da9"
  },
  {
   "metadata": {
    "ExecuteTime": {
     "end_time": "2024-09-29T11:11:27.698698Z",
     "start_time": "2024-09-29T11:11:27.675622Z"
    }
   },
   "cell_type": "code",
   "source": [
    "np_array = np.random.randint(0, 101, 10)\n",
    "np_array[np_array>50] = -1"
   ],
   "id": "a310294f0d0a1544",
   "outputs": [],
   "execution_count": 72
  },
  {
   "metadata": {},
   "cell_type": "markdown",
   "source": "Создай массив из 15 случайных целых чисел от -50 до 50. Используя условие, найди все отрицательные числа и замени их на 0.",
   "id": "decbb9648cf1b5a"
  },
  {
   "metadata": {
    "ExecuteTime": {
     "end_time": "2024-09-29T11:11:28.862406Z",
     "start_time": "2024-09-29T11:11:28.852385Z"
    }
   },
   "cell_type": "code",
   "source": [
    "np_array = np.random.randint(-50, 51, 15)\n",
    "np_array[np_array<0] = 0"
   ],
   "id": "744b9fdc3f8178bf",
   "outputs": [],
   "execution_count": 73
  },
  {
   "metadata": {},
   "cell_type": "markdown",
   "source": "Создай массив из 20 случайных целых чисел от 0 до 100 (5,20). Найди индексы всех элементов, которые больше 30 и меньше 70. Собери эти элементы в новый массив.",
   "id": "eec734cd25e6e714"
  },
  {
   "metadata": {
    "ExecuteTime": {
     "end_time": "2024-09-29T11:15:56.798469Z",
     "start_time": "2024-09-29T11:15:56.789931Z"
    }
   },
   "cell_type": "code",
   "source": [
    "np_array = np.random.randint(0, 101, (5, 20))\n",
    "new_array = np_array[(np_array>30) & (np_array<70)]"
   ],
   "id": "928f953d528ec8e2",
   "outputs": [],
   "execution_count": 81
  }
 ],
 "metadata": {
  "kernelspec": {
   "display_name": "Python 3",
   "language": "python",
   "name": "python3"
  },
  "language_info": {
   "codemirror_mode": {
    "name": "ipython",
    "version": 2
   },
   "file_extension": ".py",
   "mimetype": "text/x-python",
   "name": "python",
   "nbconvert_exporter": "python",
   "pygments_lexer": "ipython2",
   "version": "2.7.6"
  }
 },
 "nbformat": 4,
 "nbformat_minor": 5
}
