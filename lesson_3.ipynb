{
 "cells": [
  {
   "cell_type": "code",
   "id": "initial_id",
   "metadata": {
    "collapsed": true,
    "ExecuteTime": {
     "end_time": "2024-09-28T15:12:22.142026Z",
     "start_time": "2024-09-28T15:12:21.455318Z"
    }
   },
   "source": "import numpy as np",
   "outputs": [],
   "execution_count": 2
  },
  {
   "metadata": {},
   "cell_type": "markdown",
   "source": "**np.expand_dims()**",
   "id": "ded85c7bcd4e46b8"
  },
  {
   "metadata": {},
   "cell_type": "markdown",
   "source": "Создай одномерный массив из чисел от 1 до 4. Добавь новую ось, сделав массив двумерным с помощью функции np.expand_dims().",
   "id": "1d44e4444e2bf43"
  },
  {
   "metadata": {
    "ExecuteTime": {
     "end_time": "2024-09-25T20:33:48.339050Z",
     "start_time": "2024-09-25T20:33:48.330821Z"
    }
   },
   "cell_type": "code",
   "source": [
    "np_array = np.array([1, 2, 3, 4])\n",
    "np_array = np.expand_dims(np_array, axis=-1)"
   ],
   "id": "407475e62c214ae4",
   "outputs": [],
   "execution_count": 32
  },
  {
   "metadata": {},
   "cell_type": "markdown",
   "source": "**np.newaxis**",
   "id": "33893e3fb9f13f75"
  },
  {
   "metadata": {},
   "cell_type": "markdown",
   "source": [
    "Создай одномерный массив из чисел от 5 до 8. Добавь новую ось, чтобы сделать массив в форме строки (1x4).\n",
    "Затем добавь новую ось так, чтобы массив стал столбцом (4x1)."
   ],
   "id": "e31819bb86c7f95d"
  },
  {
   "metadata": {
    "ExecuteTime": {
     "end_time": "2024-09-25T20:24:40.699324Z",
     "start_time": "2024-09-25T20:24:40.688364Z"
    }
   },
   "cell_type": "code",
   "source": [
    "np_array = np.array([5, 6, 7, 8])\n",
    "np_array = np_array[np.newaxis, :]\n",
    "np_array = np.array([5, 6, 7, 8])\n",
    "np_array = np_array[:, np.newaxis]"
   ],
   "id": "8f7e59d75ecf95c3",
   "outputs": [],
   "execution_count": 18
  },
  {
   "metadata": {},
   "cell_type": "markdown",
   "source": [
    "Создай массив размером 2x3.\n",
    "Добавь ось с помощью *np.newaxis*, чтобы этот массив стал трехмерным с формой (2, 1, 3).\n",
    "Затем добавь ось с другой стороны, чтобы массив стал (2, 3, 1)."
   ],
   "id": "b9b51cdfbf8d92c8"
  },
  {
   "metadata": {
    "ExecuteTime": {
     "end_time": "2024-09-25T20:29:24.082787Z",
     "start_time": "2024-09-25T20:29:24.069627Z"
    }
   },
   "cell_type": "code",
   "source": [
    "np_array = np.array([[1, 2, 3], [4, 5, 6]])\n",
    "np_array = np_array[:, np.newaxis, :]\n",
    "np_array = np.array([[1, 2, 3], [4, 5, 6]])\n",
    "np_array = np_array[:, :, np.newaxis]"
   ],
   "id": "7a835c15228cc124",
   "outputs": [],
   "execution_count": 23
  },
  {
   "metadata": {},
   "cell_type": "markdown",
   "source": [
    "Создай массив: *np.array([10, 20, 30, 40]).*\n",
    "Преобразуй его с помощью np.newaxis так, чтобы он стал трехмерным с формой (1, 4, 1)."
   ],
   "id": "70d1e7235e4ddd99"
  },
  {
   "metadata": {
    "ExecuteTime": {
     "end_time": "2024-09-25T20:33:44.025056Z",
     "start_time": "2024-09-25T20:33:44.016463Z"
    }
   },
   "cell_type": "code",
   "source": [
    "np_array = np.array([10, 20, 30, 40])\n",
    "np_array = np_array[np.newaxis, :, np.newaxis]"
   ],
   "id": "80687aeb6284d03f",
   "outputs": [],
   "execution_count": 31
  },
  {
   "metadata": {},
   "cell_type": "markdown",
   "source": "**np.squeeze()**",
   "id": "776fb3774f557773"
  },
  {
   "metadata": {},
   "cell_type": "markdown",
   "source": "Создай массив размером (1, 5) (одна строка с пятью элементами) с помощью *np.newaxis*. Используй *np.squeeze()*, чтобы убрать лишнюю ось и получить одномерный массив.",
   "id": "a6b5326843b83b39"
  },
  {
   "metadata": {
    "ExecuteTime": {
     "end_time": "2024-09-25T20:40:53.940756Z",
     "start_time": "2024-09-25T20:40:53.930723Z"
    }
   },
   "cell_type": "code",
   "source": [
    "np_array = np.array([1, 2, 3, 4, 5])\n",
    "np_array = np_array[np.newaxis, :]\n",
    "np_array_squeezed = np.squeeze(np_array)"
   ],
   "id": "16e657003ab52b6e",
   "outputs": [],
   "execution_count": 37
  },
  {
   "metadata": {},
   "cell_type": "markdown",
   "source": "**Добавление и удаление элементов из массива** ",
   "id": "aed23365c332c051"
  },
  {
   "metadata": {},
   "cell_type": "markdown",
   "source": "Создай массив из чисел от 1 до 5. Используй функцию *np.append()*, чтобы добавить к нему числа 6, 7 и 8.",
   "id": "891b3d70e5b6b9d4"
  },
  {
   "metadata": {
    "ExecuteTime": {
     "end_time": "2024-09-28T15:17:25.991641Z",
     "start_time": "2024-09-28T15:17:25.980884Z"
    }
   },
   "cell_type": "code",
   "source": [
    "np_array = np.array([1, 2, 3, 4, 5])\n",
    "np_array = np.append(np_array, [6, 7, 8])"
   ],
   "id": "669a04e5f54c06e6",
   "outputs": [],
   "execution_count": 11
  },
  {
   "metadata": {},
   "cell_type": "markdown",
   "source": "Создай массив из чисел от 10 до 50 с шагом 10 (то есть [10, 20, 30, 40, 50]). Используй функцию *np.insert()*, чтобы вставить число 25 между 20 и 30.",
   "id": "c035345764fd2293"
  },
  {
   "metadata": {
    "ExecuteTime": {
     "end_time": "2024-09-28T15:17:47.349859Z",
     "start_time": "2024-09-28T15:17:47.338931Z"
    }
   },
   "cell_type": "code",
   "source": [
    "np_array = np.arange(10, 51, 10)\n",
    "np_array = np.insert(np_array, 2, 25)"
   ],
   "id": "b459c8fb96d42ce3",
   "outputs": [],
   "execution_count": 12
  },
  {
   "metadata": {},
   "cell_type": "markdown",
   "source": "Создай два двумерных массива, используй функцию *np.concatenate()*, чтобы объединить их по вертикали (ось 0).",
   "id": "17e90819c92799ed"
  },
  {
   "metadata": {
    "ExecuteTime": {
     "end_time": "2024-09-28T15:21:16.909215Z",
     "start_time": "2024-09-28T15:21:16.896701Z"
    }
   },
   "cell_type": "code",
   "source": [
    "a = np.array([[1, 2], [3, 4]])\n",
    "b = np.array([[5, 6], [7, 8]])\n",
    "c = np.concatenate((a, b), axis=0)"
   ],
   "id": "4cc5351bff10bd4d",
   "outputs": [],
   "execution_count": 19
  },
  {
   "metadata": {},
   "cell_type": "markdown",
   "source": "Создай двумерный массив размером 3x3 из чисел от 1 до 9. С помощью функции *np.append()* добавь новую строку [10, 11, 12] к этому массиву, чтобы получился массив размером 4x3.",
   "id": "c8bb870dcee23239"
  },
  {
   "metadata": {
    "ExecuteTime": {
     "end_time": "2024-09-28T15:26:18.914454Z",
     "start_time": "2024-09-28T15:26:18.904178Z"
    }
   },
   "cell_type": "code",
   "source": [
    "np_array = np.array([[1, 2, 3], [4, 5, 6], [7, 8, 9]])\n",
    "np_array = np.append(np_array, [[10, 11, 12]], axis=0)"
   ],
   "id": "9edd61b7ab59da17",
   "outputs": [],
   "execution_count": 22
  },
  {
   "metadata": {},
   "cell_type": "markdown",
   "source": "Создай двумерный массив размером 3x3 из чисел от 1 до 9. Используя функцию np.append(), добавь новый столбец [10, 11, 12], чтобы получился массив размером 3x4.",
   "id": "907144fb89c63011"
  },
  {
   "metadata": {
    "ExecuteTime": {
     "end_time": "2024-09-28T15:37:22.285577Z",
     "start_time": "2024-09-28T15:37:22.275929Z"
    }
   },
   "cell_type": "code",
   "source": [
    "np_array = np.array([[1, 2, 3], [4, 5, 6], [7, 8, 9]])\n",
    "np_array = np.append(np_array, [[10], [11], [12]], axis=1)"
   ],
   "id": "7d9dc782d1448bf3",
   "outputs": [],
   "execution_count": 25
  },
  {
   "metadata": {},
   "cell_type": "markdown",
   "source": "Создай массив из чисел от 1 до 10. Удали число 5.",
   "id": "31ee4f3e833b308b"
  },
  {
   "metadata": {
    "ExecuteTime": {
     "end_time": "2024-09-28T15:42:00.547074Z",
     "start_time": "2024-09-28T15:42:00.536127Z"
    }
   },
   "cell_type": "code",
   "source": [
    "np_array = np.arange(1, 11)\n",
    "np_array = np.delete(np_array, 4)"
   ],
   "id": "6fdf0dbabc6a1497",
   "outputs": [],
   "execution_count": 27
  },
  {
   "metadata": {},
   "cell_type": "markdown",
   "source": "Создай массив размером 3x3, удали вторую строку массива.",
   "id": "2808d02875722482"
  },
  {
   "metadata": {
    "ExecuteTime": {
     "end_time": "2024-09-28T15:45:09.334633Z",
     "start_time": "2024-09-28T15:45:09.324334Z"
    }
   },
   "cell_type": "code",
   "source": [
    "np_array = np.array([[1, 2, 3], [4, 5, 6], [7, 8, 9]])\n",
    "np_array = np.delete(np_array, 1, axis=0)"
   ],
   "id": "782ada333a3d7306",
   "outputs": [],
   "execution_count": 34
  },
  {
   "metadata": {},
   "cell_type": "markdown",
   "source": "Создай массив размером 3x4. Удали третий столбец массива.",
   "id": "ee6d0704d19a1fec"
  },
  {
   "metadata": {
    "ExecuteTime": {
     "end_time": "2024-09-28T15:47:10.606738Z",
     "start_time": "2024-09-28T15:47:10.598159Z"
    }
   },
   "cell_type": "code",
   "source": [
    "np_array = np.array([[10, 20, 30, 40], [50, 60, 70, 80], [90, 100, 110, 120]])\n",
    "np_array = np.delete(np_array, 2, axis=1)"
   ],
   "id": "2ae790ce688445c2",
   "outputs": [],
   "execution_count": 37
  }
 ],
 "metadata": {
  "kernelspec": {
   "display_name": "Python 3",
   "language": "python",
   "name": "python3"
  },
  "language_info": {
   "codemirror_mode": {
    "name": "ipython",
    "version": 2
   },
   "file_extension": ".py",
   "mimetype": "text/x-python",
   "name": "python",
   "nbconvert_exporter": "python",
   "pygments_lexer": "ipython2",
   "version": "2.7.6"
  }
 },
 "nbformat": 4,
 "nbformat_minor": 5
}
