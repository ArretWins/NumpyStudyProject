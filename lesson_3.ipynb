{
 "cells": [
  {
   "cell_type": "code",
   "id": "initial_id",
   "metadata": {
    "collapsed": true,
    "ExecuteTime": {
     "end_time": "2024-09-25T20:09:32.032815Z",
     "start_time": "2024-09-25T20:09:31.548956Z"
    }
   },
   "source": "import numpy as np",
   "outputs": [],
   "execution_count": 2
  },
  {
   "metadata": {},
   "cell_type": "markdown",
   "source": "**np.expand_dims()**",
   "id": "ded85c7bcd4e46b8"
  },
  {
   "metadata": {},
   "cell_type": "markdown",
   "source": "Создай одномерный массив из чисел от 1 до 4. Добавь новую ось, сделав массив двумерным с помощью функции np.expand_dims().",
   "id": "1d44e4444e2bf43"
  },
  {
   "metadata": {
    "ExecuteTime": {
     "end_time": "2024-09-25T20:33:48.339050Z",
     "start_time": "2024-09-25T20:33:48.330821Z"
    }
   },
   "cell_type": "code",
   "source": [
    "np_array = np.array([1, 2, 3, 4])\n",
    "np_array = np.expand_dims(np_array, axis=-1)"
   ],
   "id": "407475e62c214ae4",
   "outputs": [],
   "execution_count": 32
  },
  {
   "metadata": {},
   "cell_type": "markdown",
   "source": "**np.newaxis**",
   "id": "33893e3fb9f13f75"
  },
  {
   "metadata": {},
   "cell_type": "markdown",
   "source": [
    "Создай одномерный массив из чисел от 5 до 8. Добавь новую ось, чтобы сделать массив в форме строки (1x4).\n",
    "Затем добавь новую ось так, чтобы массив стал столбцом (4x1)."
   ],
   "id": "e31819bb86c7f95d"
  },
  {
   "metadata": {
    "ExecuteTime": {
     "end_time": "2024-09-25T20:24:40.699324Z",
     "start_time": "2024-09-25T20:24:40.688364Z"
    }
   },
   "cell_type": "code",
   "source": [
    "np_array = np.array([5, 6, 7, 8])\n",
    "np_array = np_array[np.newaxis, :]\n",
    "np_array = np.array([5, 6, 7, 8])\n",
    "np_array = np_array[:, np.newaxis]"
   ],
   "id": "8f7e59d75ecf95c3",
   "outputs": [],
   "execution_count": 18
  },
  {
   "metadata": {},
   "cell_type": "markdown",
   "source": [
    "Создай массив размером 2x3.\n",
    "Добавь ось с помощью *np.newaxis*, чтобы этот массив стал трехмерным с формой (2, 1, 3).\n",
    "Затем добавь ось с другой стороны, чтобы массив стал (2, 3, 1)."
   ],
   "id": "b9b51cdfbf8d92c8"
  },
  {
   "metadata": {
    "ExecuteTime": {
     "end_time": "2024-09-25T20:29:24.082787Z",
     "start_time": "2024-09-25T20:29:24.069627Z"
    }
   },
   "cell_type": "code",
   "source": [
    "np_array = np.array([[1, 2, 3], [4, 5, 6]])\n",
    "np_array = np_array[:, np.newaxis, :]\n",
    "np_array = np.array([[1, 2, 3], [4, 5, 6]])\n",
    "np_array = np_array[:, :, np.newaxis]"
   ],
   "id": "7a835c15228cc124",
   "outputs": [],
   "execution_count": 23
  },
  {
   "metadata": {},
   "cell_type": "markdown",
   "source": [
    "Создай массив: *np.array([10, 20, 30, 40]).*\n",
    "Преобразуй его с помощью np.newaxis так, чтобы он стал трехмерным с формой (1, 4, 1)."
   ],
   "id": "70d1e7235e4ddd99"
  },
  {
   "metadata": {
    "ExecuteTime": {
     "end_time": "2024-09-25T20:33:44.025056Z",
     "start_time": "2024-09-25T20:33:44.016463Z"
    }
   },
   "cell_type": "code",
   "source": [
    "np_array = np.array([10, 20, 30, 40])\n",
    "np_array = np_array[np.newaxis, :, np.newaxis]"
   ],
   "id": "80687aeb6284d03f",
   "outputs": [],
   "execution_count": 31
  },
  {
   "metadata": {},
   "cell_type": "markdown",
   "source": "**np.squeeze()**",
   "id": "776fb3774f557773"
  },
  {
   "metadata": {},
   "cell_type": "markdown",
   "source": "Создай массив размером (1, 5) (одна строка с пятью элементами) с помощью *np.newaxis*. Используй *np.squeeze()*, чтобы убрать лишнюю ось и получить одномерный массив.",
   "id": "a6b5326843b83b39"
  },
  {
   "metadata": {
    "ExecuteTime": {
     "end_time": "2024-09-25T20:40:53.940756Z",
     "start_time": "2024-09-25T20:40:53.930723Z"
    }
   },
   "cell_type": "code",
   "source": [
    "np_array = np.array([1, 2, 3, 4, 5])\n",
    "np_array = np_array[np.newaxis, :]\n",
    "np_array_squeezed = np.squeeze(np_array)"
   ],
   "id": "16e657003ab52b6e",
   "outputs": [],
   "execution_count": 37
  },
  {
   "metadata": {},
   "cell_type": "code",
   "outputs": [],
   "execution_count": null,
   "source": "",
   "id": "669a04e5f54c06e6"
  }
 ],
 "metadata": {
  "kernelspec": {
   "display_name": "Python 3",
   "language": "python",
   "name": "python3"
  },
  "language_info": {
   "codemirror_mode": {
    "name": "ipython",
    "version": 2
   },
   "file_extension": ".py",
   "mimetype": "text/x-python",
   "name": "python",
   "nbconvert_exporter": "python",
   "pygments_lexer": "ipython2",
   "version": "2.7.6"
  }
 },
 "nbformat": 4,
 "nbformat_minor": 5
}
