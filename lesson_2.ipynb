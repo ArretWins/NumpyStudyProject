{
 "cells": [
  {
   "metadata": {},
   "cell_type": "markdown",
   "source": "**Shape, reshape, resize, ravel, view, copy**",
   "id": "935f58c01d246009"
  },
  {
   "cell_type": "code",
   "id": "initial_id",
   "metadata": {
    "collapsed": true,
    "ExecuteTime": {
     "end_time": "2024-09-24T19:20:54.912931Z",
     "start_time": "2024-09-24T19:20:54.508719Z"
    }
   },
   "source": "import numpy as np",
   "outputs": [],
   "execution_count": 1
  },
  {
   "metadata": {},
   "cell_type": "markdown",
   "source": "Создайте массив *arr* размером (4, 8) и запишите в переменную *arr*, после измените размер массива на (2, 16).",
   "id": "6ef9ad40ed9eabc9"
  },
  {
   "metadata": {
    "ExecuteTime": {
     "end_time": "2024-09-24T21:37:24.753472Z",
     "start_time": "2024-09-24T21:37:24.748099Z"
    }
   },
   "cell_type": "code",
   "source": [
    "arr = np.ones([4, 8])\n",
    "arr.shape = (2, 16)"
   ],
   "id": "ca41b19470c3c552",
   "outputs": [],
   "execution_count": 29
  },
  {
   "metadata": {},
   "cell_type": "markdown",
   "source": "В программе создан массив *arr* размером (4, 8). Получите новое представление массива (2, 2, 8). Результат запишите в переменную *new_array*.",
   "id": "c800e44386e92201"
  },
  {
   "metadata": {
    "ExecuteTime": {
     "end_time": "2024-09-24T21:37:45.992470Z",
     "start_time": "2024-09-24T21:37:45.986436Z"
    }
   },
   "cell_type": "code",
   "source": "new_array = arr.reshape([2, 2, 8])",
   "id": "8d72c97604bfb7c0",
   "outputs": [],
   "execution_count": 31
  },
  {
   "metadata": {},
   "cell_type": "markdown",
   "source": "Создайте массив *new_arr* размером (5, 6) со значениями от 1 до 30 включительно.",
   "id": "81dfa129c680f845"
  },
  {
   "metadata": {
    "ExecuteTime": {
     "end_time": "2024-09-24T21:49:58.404223Z",
     "start_time": "2024-09-24T21:49:58.398202Z"
    }
   },
   "cell_type": "code",
   "source": [
    "new_arr = np.arange(1,31)\n",
    "new_arr.shape = (5, 6)"
   ],
   "id": "d0c2dd825d80a5a9",
   "outputs": [],
   "execution_count": 46
  },
  {
   "metadata": {},
   "cell_type": "markdown",
   "source": "Поменяйте размер массива *arr* на (10, 3, 7).",
   "id": "d27210e01293abe1"
  },
  {
   "metadata": {
    "ExecuteTime": {
     "end_time": "2024-09-24T21:56:04.221993Z",
     "start_time": "2024-09-24T21:56:04.215941Z"
    }
   },
   "cell_type": "code",
   "source": "arr.resize((10, 3, 7), refcheck=False)",
   "id": "c680d0ecc7cc462c",
   "outputs": [],
   "execution_count": 53
  },
  {
   "metadata": {},
   "cell_type": "markdown",
   "source": "Получите новое представление массима *arr* в виде одномерного массива. ",
   "id": "f199207d814ed892"
  },
  {
   "metadata": {
    "ExecuteTime": {
     "end_time": "2024-09-24T21:56:21.587759Z",
     "start_time": "2024-09-24T21:56:21.582057Z"
    }
   },
   "cell_type": "code",
   "source": "simple_arr = arr.ravel()",
   "id": "5b994c684ec12b44",
   "outputs": [],
   "execution_count": 54
  },
  {
   "metadata": {},
   "cell_type": "markdown",
   "source": "Создайте копию представления массива *simple_arr*.",
   "id": "2eb7e2370db7b14"
  },
  {
   "metadata": {
    "ExecuteTime": {
     "end_time": "2024-09-24T21:57:38.196031Z",
     "start_time": "2024-09-24T21:57:38.190810Z"
    }
   },
   "cell_type": "code",
   "source": "new_view = simple_arr.view()",
   "id": "a7b2176b6c4153e7",
   "outputs": [],
   "execution_count": 55
  },
  {
   "metadata": {},
   "cell_type": "markdown",
   "source": "Создайте копию массива *simple_arr*.",
   "id": "c051d5b3b0ffe373"
  },
  {
   "metadata": {
    "ExecuteTime": {
     "end_time": "2024-09-24T21:58:51.103002Z",
     "start_time": "2024-09-24T21:58:51.096506Z"
    }
   },
   "cell_type": "code",
   "source": "new_arr = simple_arr.copy()",
   "id": "650d07657131cba8",
   "outputs": [],
   "execution_count": 56
  }
 ],
 "metadata": {
  "kernelspec": {
   "display_name": "Python 3",
   "language": "python",
   "name": "python3"
  },
  "language_info": {
   "codemirror_mode": {
    "name": "ipython",
    "version": 2
   },
   "file_extension": ".py",
   "mimetype": "text/x-python",
   "name": "python",
   "nbconvert_exporter": "python",
   "pygments_lexer": "ipython2",
   "version": "2.7.6"
  }
 },
 "nbformat": 4,
 "nbformat_minor": 5
}
